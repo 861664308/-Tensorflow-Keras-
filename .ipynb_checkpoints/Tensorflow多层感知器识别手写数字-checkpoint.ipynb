{
 "cells": [
  {
   "cell_type": "markdown",
   "metadata": {},
   "source": [
    "本章，我们先用Tensorflow建立一个隐藏层的多层感知器模型来识别MNIST手写数据集。其中，输入层为784个神经元，中间层为256个神经元，输出层有10个神经元"
   ]
  },
  {
   "cell_type": "markdown",
   "metadata": {},
   "source": [
    "# 数据准备"
   ]
  },
  {
   "cell_type": "markdown",
   "metadata": {},
   "source": [
    "先读取MNIST数据集"
   ]
  },
  {
   "cell_type": "code",
   "execution_count": 1,
   "metadata": {},
   "outputs": [
    {
     "name": "stdout",
     "output_type": "stream",
     "text": [
      "Extracting MNIST_data/train-images-idx3-ubyte.gz\n",
      "Extracting MNIST_data/train-labels-idx1-ubyte.gz\n",
      "Extracting MNIST_data/t10k-images-idx3-ubyte.gz\n",
      "Extracting MNIST_data/t10k-labels-idx1-ubyte.gz\n"
     ]
    }
   ],
   "source": [
    "import tensorflow as tf\n",
    "import tensorflow.examples.tutorials.mnist.input_data as input_data\n",
    "\n",
    "mnist = input_data.read_data_sets('MNIST_data/', one_hot = True)"
   ]
  },
  {
   "cell_type": "code",
   "execution_count": 2,
   "metadata": {},
   "outputs": [
    {
     "name": "stdout",
     "output_type": "stream",
     "text": [
      "train images     : (55000, 784) labels: (55000, 10)\n",
      "validation images: (5000, 784) labels: (5000, 10)\n",
      "test images      : (10000, 784) labels: (10000, 10)\n"
     ]
    }
   ],
   "source": [
    "print('train images     :', mnist.train.images.shape,\n",
    "     'labels:', mnist.train.labels.shape)\n",
    "print('validation images:', mnist.validation.images.shape,\n",
    "     'labels:', mnist.validation.labels.shape)\n",
    "print('test images      :', mnist.test.images.shape,\n",
    "     'labels:', mnist.test.labels.shape)"
   ]
  },
  {
   "cell_type": "markdown",
   "metadata": {},
   "source": [
    "# 建立模型"
   ]
  },
  {
   "cell_type": "markdown",
   "metadata": {},
   "source": [
    "Tensorflow和Keras建立模型的区别\n",
    "\n",
    "$\\bullet$ **Keras建立模型：**只需要使用model = Sequential()建立线性堆叠模型，再使用model.add()方法将各个神经网络层加入模型即可\n",
    "\n",
    "$\\bullet$ **Tensorflow建立模型：**必须自行定义layer函数（处理张量运算），再使用layer函数建立多层感知器模型"
   ]
  },
  {
   "cell_type": "markdown",
   "metadata": {},
   "source": [
    "建立layer函数"
   ]
  },
  {
   "cell_type": "code",
   "execution_count": 3,
   "metadata": {},
   "outputs": [],
   "source": [
    "def layer(output_dim, input_dim, inputs, activation = None):\n",
    "    #用正态随机数初始化权重和偏置\n",
    "    W = tf.Variable(tf.random_normal([input_dim, output_dim]))\n",
    "    b = tf.Variable(tf.random_normal([1, output_dim]))\n",
    "    #建立矩阵表达式XWb = (input * W) + b\n",
    "    XWb = tf.matmul(inputs, W) + b\n",
    "    #计算激活函数值\n",
    "    if activation is None:\n",
    "        outputs = XWb \n",
    "    else:\n",
    "        outputs = activation(XWb)\n",
    "    #返回已经建立的神经网络层\n",
    "    return outputs"
   ]
  },
  {
   "cell_type": "markdown",
   "metadata": {},
   "source": [
    "建立输入层\n",
    "\n",
    "我们使用tf.placeholder的方法建立输入层（$x$），方便后面传入数字图像数据"
   ]
  },
  {
   "cell_type": "code",
   "execution_count": 4,
   "metadata": {},
   "outputs": [],
   "source": [
    "x = tf.placeholder('float', [None, 784])"
   ]
  },
  {
   "cell_type": "markdown",
   "metadata": {},
   "source": [
    "建立隐藏层"
   ]
  },
  {
   "cell_type": "code",
   "execution_count": 5,
   "metadata": {},
   "outputs": [],
   "source": [
    "h1 = layer(output_dim=256, input_dim=784, inputs=x, activation=tf.nn.relu) #输入是所建立的输入层"
   ]
  },
  {
   "cell_type": "markdown",
   "metadata": {},
   "source": [
    "建立输出层"
   ]
  },
  {
   "cell_type": "code",
   "execution_count": 6,
   "metadata": {},
   "outputs": [],
   "source": [
    "y_predict = layer(output_dim=10, input_dim=256, inputs=h1, activation=tf.nn.sigmoid)"
   ]
  },
  {
   "cell_type": "markdown",
   "metadata": {},
   "source": [
    "# 定义训练方式"
   ]
  },
  {
   "cell_type": "markdown",
   "metadata": {},
   "source": [
    "Tensorflow和Keras定义训练方式的区别\n",
    "\n",
    "**Keras定义训练方式：**只需要使用model.compile设置损失函数，优化器，并用metrics设置评估模型的方式\n",
    "\n",
    "**Tensorflow定义训练方式：**必须自行定义损失函数的公式，优化器和设置参数，并定义评估模型准确率的公式"
   ]
  },
  {
   "cell_type": "markdown",
   "metadata": {},
   "source": [
    "建立训练数据label真实值的placeholder"
   ]
  },
  {
   "cell_type": "code",
   "execution_count": 7,
   "metadata": {},
   "outputs": [],
   "source": [
    "y_label = tf.placeholder('float', [None, 10]) #因为项数不确定，所以[None,10]的第一维设置为None"
   ]
  },
  {
   "cell_type": "markdown",
   "metadata": {},
   "source": [
    "定义损失函数\n",
    "\n",
    "在深度学习模型的训练中，使用cross_entropy交叉熵训练效果比较好"
   ]
  },
  {
   "cell_type": "code",
   "execution_count": 8,
   "metadata": {},
   "outputs": [],
   "source": [
    "loss_function = tf.reduce_mean(tf.nn.softmax_cross_entropy_with_logits(logits=y_predict, labels=y_label))"
   ]
  },
  {
   "cell_type": "markdown",
   "metadata": {},
   "source": [
    "参数说明\n",
    "\n",
    "loss_function = tf.reduce_mean 对下列cross_entropy计算结果求平均值\n",
    "\n",
    "tf.nn.softmax_cross_entropy_with_logits计算cross_entropy输入下列参数\n",
    "\n",
    "logits = y_predict 将logits参数设置为y_predict预测值\n",
    "\n",
    "labels = y_label 将labels设为y_label真实值"
   ]
  },
  {
   "cell_type": "markdown",
   "metadata": {},
   "source": [
    "定义优化器"
   ]
  },
  {
   "cell_type": "code",
   "execution_count": 9,
   "metadata": {},
   "outputs": [],
   "source": [
    "optimizer = tf.train.AdamOptimizer(learning_rate=0.001).minimize(loss_function)"
   ]
  },
  {
   "cell_type": "markdown",
   "metadata": {},
   "source": [
    "参数说明\n",
    "\n",
    "optimizer = tf.train调用tf.train模块定义optimizer（优化器）\n",
    "\n",
    "AdamOptimizer(learning_rate=0.01) 使用AdamOptimizer并且设置学习速率为0.001\n",
    "\n",
    "minimize(loss_function)优化器使用loss_function计算误差，并且按照误差更新模型权重与偏差，使得误差最小化"
   ]
  },
  {
   "cell_type": "markdown",
   "metadata": {},
   "source": [
    "# 定义评估模型准确率的方式\n",
    "\n",
    "在Tensorflow中，我们必须自行定义评估模型准确率的方式"
   ]
  },
  {
   "cell_type": "markdown",
   "metadata": {},
   "source": [
    "计算每一项数据是否正确"
   ]
  },
  {
   "cell_type": "code",
   "execution_count": 10,
   "metadata": {},
   "outputs": [],
   "source": [
    "correct_prediction = tf.equal(tf.argmax(y_label, 1), tf.argmax(y_predict, 1))"
   ]
  },
  {
   "cell_type": "markdown",
   "metadata": {},
   "source": [
    "真实值和预测值都是One-Hot Encoding，所以用tf.argmax转换成数字来比较"
   ]
  },
  {
   "cell_type": "markdown",
   "metadata": {},
   "source": [
    "将前面预测结果做平均值"
   ]
  },
  {
   "cell_type": "code",
   "execution_count": 11,
   "metadata": {},
   "outputs": [],
   "source": [
    "accuracy = tf.reduce_mean(tf.cast(correct_prediction, 'float'))"
   ]
  },
  {
   "cell_type": "markdown",
   "metadata": {},
   "source": [
    "用tf.cast将结果转换成float，再用tf.reduce_mean来求均值"
   ]
  },
  {
   "cell_type": "markdown",
   "metadata": {},
   "source": [
    "# 进行训练"
   ]
  },
  {
   "cell_type": "markdown",
   "metadata": {},
   "source": [
    "Keras和Tensorflow训练的区别\n",
    "\n",
    "$\\bullet$**Keras进行训练：** 只需要使用model.fit就可以开始训练\n",
    "\n",
    "$\\bullet$**Tensorflow进行训练：** 必须编写程序代码来控制训练的每一个过程"
   ]
  },
  {
   "cell_type": "markdown",
   "metadata": {},
   "source": [
    "定义训练参数"
   ]
  },
  {
   "cell_type": "code",
   "execution_count": 12,
   "metadata": {},
   "outputs": [],
   "source": [
    "trainEpochs = 15 #设置训练周期为15个周期\n",
    "batchSize = 100 #每一批次的项数是100\n",
    "totalBatchs = int(mnist.train.images.shape[0] / batchSize) #设置训练批次数\n",
    "loss_list=[]; epoch_list = []; accuracy_list=[]\n",
    "#初始化训练周期，误差，准确率。后续每一个训练周期完成之后，会记录误差与准确率，在下一个步骤以图形显示出来\n",
    "from time import time #导入时间模块\n",
    "startTime = time() #开始计算时间\n",
    "\n",
    "sess = tf.Session() #建立Tensorflow Session\n",
    "sess.run(tf.global_variables_initializer()) #初始化Tensorflow global变量"
   ]
  },
  {
   "cell_type": "markdown",
   "metadata": {},
   "source": [
    "进行训练"
   ]
  },
  {
   "cell_type": "code",
   "execution_count": 13,
   "metadata": {},
   "outputs": [
    {
     "name": "stdout",
     "output_type": "stream",
     "text": [
      "Train Epoch: 01 Loss= 1.716818571 Accuracy= 0.6964\n",
      "Train Epoch: 02 Loss= 1.624122262 Accuracy= 0.7898\n",
      "Train Epoch: 03 Loss= 1.596486807 Accuracy= 0.8144\n",
      "Train Epoch: 04 Loss= 1.578305244 Accuracy= 0.8538\n",
      "Train Epoch: 05 Loss= 1.567888618 Accuracy= 0.854\n",
      "Train Epoch: 06 Loss= 1.560059071 Accuracy= 0.8646\n",
      "Train Epoch: 07 Loss= 1.556988597 Accuracy= 0.8752\n",
      "Train Epoch: 08 Loss= 1.550080299 Accuracy= 0.8902\n",
      "Train Epoch: 09 Loss= 1.542794228 Accuracy= 0.8786\n",
      "Train Epoch: 10 Loss= 1.541131616 Accuracy= 0.9002\n",
      "Train Epoch: 11 Loss= 1.535538435 Accuracy= 0.8958\n",
      "Train Epoch: 12 Loss= 1.533445001 Accuracy= 0.9066\n",
      "Train Epoch: 13 Loss= 1.529176593 Accuracy= 0.905\n",
      "Train Epoch: 14 Loss= 1.527543902 Accuracy= 0.9138\n",
      "Train Epoch: 15 Loss= 1.527024031 Accuracy= 0.9098\n",
      "Train Finished takes: 32.91980814933777\n"
     ]
    }
   ],
   "source": [
    "for epoch in range(trainEpochs): #执行15个训练周期\n",
    "    #执行550批次训练，使用优化器进行训练，使误差最小化\n",
    "    for i in range(totalBatchs): \n",
    "        batch_x, batch_y = mnist.train.next_batch(batchSize)\n",
    "        sess.run(optimizer, feed_dict={x: batch_x, y_label: batch_y})\n",
    "    #550批次训练完成后，使用验证数据计算此次训练周期后的误差和准确率\n",
    "    loss, acc = sess.run([loss_function, accuracy],\n",
    "                         feed_dict={x: mnist.validation.images, y_label: mnist.validation.labels})\n",
    "    #显示训练结果，并且存入列表\n",
    "    epoch_list.append(epoch)\n",
    "    loss_list.append(loss)\n",
    "    accuracy_list.append(acc)\n",
    "    print('Train Epoch:', '%02d' %(epoch + 1), 'Loss=', '{:.9f}'.format(loss), 'Accuracy=', acc)\n",
    "#计算并显示全部运行时间\n",
    "duration = time() - startTime\n",
    "print('Train Finished takes:', duration)"
   ]
  },
  {
   "cell_type": "markdown",
   "metadata": {},
   "source": [
    "一共执行了15个周期，误差越来越小，准确率越来越高"
   ]
  },
  {
   "cell_type": "markdown",
   "metadata": {},
   "source": [
    "画出误差执行结果"
   ]
  },
  {
   "cell_type": "code",
   "execution_count": 14,
   "metadata": {},
   "outputs": [
    {
     "data": {
      "text/plain": [
       "<matplotlib.legend.Legend at 0x7fbeee382860>"
      ]
     },
     "execution_count": 14,
     "metadata": {},
     "output_type": "execute_result"
    },
    {
     "data": {
      "image/png": "[encoded data removed]",
      "text/plain": [
       "<Figure size 288x144 with 1 Axes>"
      ]
     },
     "metadata": {
      "needs_background": "light"
     },
     "output_type": "display_data"
    }
   ],
   "source": [
    "import matplotlib\n",
    "#设置matplotlib在jupyter note页面显示图形，如果少了这一指令，会另开窗口显示图形\n",
    "%matplotlib inline \n",
    "import matplotlib.pyplot as plt\n",
    "fig = plt.gcf() #获取当前的figure图\n",
    "fig.set_size_inches(4, 2) #设置图的大小\n",
    "plt.plot(epoch_list, loss_list, label = 'loss')\n",
    "plt.ylabel('loss')\n",
    "plt.xlabel('epoch')\n",
    "plt.legend(['loss'], loc = 'upper left')"
   ]
  },
  {
   "cell_type": "markdown",
   "metadata": {},
   "source": [
    "画出准确率执行结果"
   ]
  },
  {
   "cell_type": "code",
   "execution_count": 15,
   "metadata": {},
   "outputs": [
    {
     "data": {
      "image/png": "[encoded data removed]",
      "text/plain": [
       "<Figure size 288x144 with 1 Axes>"
      ]
     },
     "metadata": {
      "needs_background": "light"
     },
     "output_type": "display_data"
    }
   ],
   "source": [
    "plt.plot(epoch_list, accuracy_list, label = 'accuracy')\n",
    "fig = plt.gcf()\n",
    "fig.set_size_inches(4, 2)\n",
    "plt.ylim(0.8, 1) #设置y轴显示范围\n",
    "plt.xlabel('epoch')\n",
    "plt.ylabel('accuracy')\n",
    "plt.legend()\n",
    "plt.show()"
   ]
  },
  {
   "cell_type": "markdown",
   "metadata": {},
   "source": [
    "# 评估模型准确率\n",
    "\n",
    "用test测试数据集来评估模型的准确率"
   ]
  },
  {
   "cell_type": "code",
   "execution_count": 16,
   "metadata": {},
   "outputs": [
    {
     "name": "stdout",
     "output_type": "stream",
     "text": [
      "Accuracy: 0.9123\n"
     ]
    }
   ],
   "source": [
    "print('Accuracy:', sess.run(accuracy, feed_dict={x: mnist.test.images, y_label: mnist.test.labels}))"
   ]
  },
  {
   "cell_type": "markdown",
   "metadata": {},
   "source": [
    "准确率是0.91"
   ]
  },
  {
   "cell_type": "markdown",
   "metadata": {},
   "source": [
    "# 进行预测"
   ]
  },
  {
   "cell_type": "code",
   "execution_count": 17,
   "metadata": {},
   "outputs": [],
   "source": [
    "predict_result = sess.run(tf.arg_max(y_predict, 1), feed_dict={x: mnist.test.images})"
   ]
  },
  {
   "cell_type": "markdown",
   "metadata": {},
   "source": [
    "查看前10项预测结果"
   ]
  },
  {
   "cell_type": "code",
   "execution_count": 18,
   "metadata": {},
   "outputs": [
    {
     "data": {
      "text/plain": [
       "array([7, 2, 1, 0, 4, 1, 4, 4, 6, 9])"
      ]
     },
     "execution_count": 18,
     "metadata": {},
     "output_type": "execute_result"
    }
   ],
   "source": [
    "predict_result[: 10]"
   ]
  },
  {
   "cell_type": "markdown",
   "metadata": {},
   "source": [
    "显示前10项预测结果"
   ]
  },
  {
   "cell_type": "code",
   "execution_count": 19,
   "metadata": {},
   "outputs": [],
   "source": [
    "import matplotlib.pyplot as plt\n",
    "import numpy as np\n",
    "def plot_images_labels_prediction(images, labels, prediction, idx, num = 10):\n",
    "#函数的参数分别是images（数字图像），labels（真实值），prediction（预测结果），idx(开始显示的数据index)，num(要显示的数据项数，默认是10.不超过25)\n",
    "    fig = plt.gcf()\n",
    "    fig.set_size_inches(12, 14)\n",
    "    if num > 25: num = 25\n",
    "    for i in range(0, num):\n",
    "        #绘制图形\n",
    "        ax = plt.subplot(5, 5, i + 1)\n",
    "        ax.imshow(np.reshape(images[idx],(28, 28)), cmap = 'binary')\n",
    "        title = 'label=' + str(np.argmax(labels[idx]))#设置标题\n",
    "        if len(prediction)>0:#如果传入了预测结果\n",
    "            title+= ',predict=' + str(prediction[idx])#标题\n",
    "        \n",
    "        ax.set_title(title, fontsize = 10)#设置子图形标题\n",
    "        ax.set_xticks([]);ax.set_yticks([])#设置不显示刻度\n",
    "        idx+=1#读取下一项\n",
    "    plt.show()"
   ]
  },
  {
   "cell_type": "code",
   "execution_count": 20,
   "metadata": {},
   "outputs": [
    {
     "data": {
      "image/png": "[encoded data removed]",
      "text/plain": [
       "<Figure size 864x1008 with 10 Axes>"
      ]
     },
     "metadata": {},
     "output_type": "display_data"
    }
   ],
   "source": [
    "plot_images_labels_prediction(mnist.test.images, mnist.test.labels, predict_result, 0)"
   ]
  },
  {
   "cell_type": "markdown",
   "metadata": {},
   "source": [
    "# 隐藏层加入更多神经元\n",
    "\n",
    "我们将隐藏层的256个神经元改为1000个"
   ]
  },
  {
   "cell_type": "markdown",
   "metadata": {},
   "source": [
    "建立输入层"
   ]
  },
  {
   "cell_type": "code",
   "execution_count": 21,
   "metadata": {},
   "outputs": [],
   "source": [
    "x = tf.placeholder('float', [None, 784])"
   ]
  },
  {
   "cell_type": "markdown",
   "metadata": {},
   "source": [
    "建立隐藏层h1"
   ]
  },
  {
   "cell_type": "code",
   "execution_count": 22,
   "metadata": {},
   "outputs": [],
   "source": [
    "h1 = layer(output_dim=1000, input_dim=784, inputs=x, activation=tf.nn.relu)"
   ]
  },
  {
   "cell_type": "markdown",
   "metadata": {},
   "source": [
    "建立输出层"
   ]
  },
  {
   "cell_type": "code",
   "execution_count": 23,
   "metadata": {},
   "outputs": [],
   "source": [
    "y_predict = layer(output_dim=10, input_dim=1000, inputs=h1, activation=None)"
   ]
  },
  {
   "cell_type": "markdown",
   "metadata": {},
   "source": [
    "建立训练数据labels真实值placeholder"
   ]
  },
  {
   "cell_type": "code",
   "execution_count": 24,
   "metadata": {},
   "outputs": [],
   "source": [
    "y_label = tf.placeholder('float', [None, 10])"
   ]
  },
  {
   "cell_type": "code",
   "execution_count": 25,
   "metadata": {},
   "outputs": [],
   "source": [
    "sess.close()"
   ]
  },
  {
   "cell_type": "code",
   "execution_count": 26,
   "metadata": {},
   "outputs": [],
   "source": [
    "y_label = tf.placeholder('float', [None, 10]) #因为项数不确定，所以[None,10]的第一维设置为None\n",
    "loss_function = tf.reduce_mean(tf.nn.softmax_cross_entropy_with_logits(logits=y_predict, labels=y_label))\n",
    "optimizer=tf.train.AdamOptimizer(learning_rate=0.001).minimize(loss_function)"
   ]
  },
  {
   "cell_type": "code",
   "execution_count": 36,
   "metadata": {},
   "outputs": [],
   "source": [
    "loss_function = tf.reduce_mean(tf.nn.softmax_cross_entropy_with_logits(logits=y_predict, labels=y_label))\n",
    "correct_prediction = tf.equal(tf.argmax(y_label, 1), tf.argmax(y_predict, 1))\n",
    "accuracy = tf.reduce_mean(tf.cast(correct_prediction, 'float'))"
   ]
  },
  {
   "cell_type": "code",
   "execution_count": 37,
   "metadata": {},
   "outputs": [],
   "source": [
    "trainEpochs = 15 #设置训练周期为15个周期\n",
    "batchSize = 100 #每一批次的项数是100\n",
    "totalBatchs = int(mnist.train.images.shape[0] / batchSize) #设置训练批次数\n",
    "loss_list=[]; epoch_list = []; accuracy_list=[]\n",
    "#初始化训练周期，误差，准确率。后续每一个训练周期完成之后，会记录误差与准确率，在下一个步骤以图形显示出来\n",
    "from time import time #导入时间模块\n",
    "startTime = time() #开始计算时间\n",
    "\n",
    "sess = tf.Session() #建立Tensorflow Session\n",
    "sess.run(tf.global_variables_initializer()) #初始化Tensorflow global变量"
   ]
  },
  {
   "cell_type": "code",
   "execution_count": 39,
   "metadata": {},
   "outputs": [
    {
     "name": "stdout",
     "output_type": "stream",
     "text": [
      "Train Epoch: 01 Loss= 8.552447319 Accuracy= 0.8912\n",
      "Train Epoch: 02 Loss= 5.535166264 Accuracy= 0.9198\n",
      "Train Epoch: 03 Loss= 4.160772800 Accuracy= 0.9332\n",
      "Train Epoch: 04 Loss= 3.698151588 Accuracy= 0.9338\n",
      "Train Epoch: 05 Loss= 3.309355497 Accuracy= 0.9364\n",
      "Train Epoch: 06 Loss= 2.884063959 Accuracy= 0.9434\n",
      "Train Epoch: 07 Loss= 2.897617817 Accuracy= 0.9498\n",
      "Train Epoch: 08 Loss= 2.535916328 Accuracy= 0.951\n",
      "Train Epoch: 09 Loss= 2.479061365 Accuracy= 0.9508\n",
      "Train Epoch: 10 Loss= 2.501770020 Accuracy= 0.9504\n",
      "Train Epoch: 11 Loss= 2.505152702 Accuracy= 0.954\n",
      "Train Epoch: 12 Loss= 2.395071983 Accuracy= 0.9556\n",
      "Train Epoch: 13 Loss= 2.322209835 Accuracy= 0.957\n",
      "Train Epoch: 14 Loss= 2.145090580 Accuracy= 0.9592\n",
      "Train Epoch: 15 Loss= 2.001026869 Accuracy= 0.9616\n",
      "Train Finished takes: 98.89204168319702\n"
     ]
    }
   ],
   "source": [
    "for epoch in range(trainEpochs): #执行15个训练周期\n",
    "    #执行550批次训练，使用优化器进行训练，使误差最小化\n",
    "    for i in range(totalBatchs): \n",
    "        batch_x, batch_y = mnist.train.next_batch(batchSize)\n",
    "        sess.run(optimizer, feed_dict={x: batch_x, y_label: batch_y})\n",
    "    #550批次训练完成后，使用验证数据计算此次训练周期后的误差和准确率\n",
    "    loss, acc = sess.run([loss_function, accuracy],\n",
    "                         feed_dict={x: mnist.validation.images, y_label: mnist.validation.labels})\n",
    "    #显示训练结果，并且存入列表\n",
    "    epoch_list.append(epoch)\n",
    "    loss_list.append(loss)\n",
    "    accuracy_list.append(acc)\n",
    "    print('Train Epoch:', '%02d' %(epoch + 1), 'Loss=', '{:.9f}'.format(loss), 'Accuracy=', acc)\n",
    "#计算并显示全部运行时间\n",
    "duration = time() - startTime\n",
    "print('Train Finished takes:', duration)"
   ]
  },
  {
   "cell_type": "markdown",
   "metadata": {},
   "source": [
    "评估模型准确率"
   ]
  },
  {
   "cell_type": "code",
   "execution_count": 40,
   "metadata": {},
   "outputs": [
    {
     "name": "stdout",
     "output_type": "stream",
     "text": [
      "Accuracy: 0.9589\n"
     ]
    }
   ],
   "source": [
    "print('Accuracy:', sess.run(accuracy, feed_dict={x: mnist.test.images, y_label: mnist.test.labels}))"
   ]
  },
  {
   "cell_type": "markdown",
   "metadata": {},
   "source": [
    "准确率提高到将近0.96"
   ]
  },
  {
   "cell_type": "code",
   "execution_count": 41,
   "metadata": {},
   "outputs": [],
   "source": [
    "sess.close()"
   ]
  },
  {
   "cell_type": "markdown",
   "metadata": {},
   "source": [
    "# 建立两个隐藏层的多层感知器模型"
   ]
  },
  {
   "cell_type": "markdown",
   "metadata": {},
   "source": [
    "建立输入层"
   ]
  },
  {
   "cell_type": "code",
   "execution_count": 42,
   "metadata": {},
   "outputs": [],
   "source": [
    "x = tf.placeholder('float', [None, 784])"
   ]
  },
  {
   "cell_type": "markdown",
   "metadata": {},
   "source": [
    "建立隐藏层1"
   ]
  },
  {
   "cell_type": "code",
   "execution_count": 43,
   "metadata": {},
   "outputs": [],
   "source": [
    "h1 = layer(output_dim=1000, input_dim=784, inputs=x, activation=tf.nn.relu)"
   ]
  },
  {
   "cell_type": "markdown",
   "metadata": {},
   "source": [
    "建立隐藏层2"
   ]
  },
  {
   "cell_type": "code",
   "execution_count": 45,
   "metadata": {},
   "outputs": [],
   "source": [
    "h2 = layer(output_dim=1000, input_dim=1000, inputs=h1, activation=tf.nn.relu)"
   ]
  },
  {
   "cell_type": "markdown",
   "metadata": {},
   "source": [
    "建立输出层"
   ]
  },
  {
   "cell_type": "code",
   "execution_count": 46,
   "metadata": {},
   "outputs": [],
   "source": [
    "y_predict = layer(output_dim=10, input_dim=1000, inputs=h2, activation=None)"
   ]
  },
  {
   "cell_type": "markdown",
   "metadata": {},
   "source": [
    "建立训练数据label真实值的placeholder"
   ]
  },
  {
   "cell_type": "code",
   "execution_count": 47,
   "metadata": {},
   "outputs": [],
   "source": [
    "y_label = tf.placeholder('float', [None, 10])"
   ]
  },
  {
   "cell_type": "markdown",
   "metadata": {},
   "source": [
    "定义损失函数"
   ]
  },
  {
   "cell_type": "code",
   "execution_count": 48,
   "metadata": {},
   "outputs": [],
   "source": [
    "loss_function = tf.reduce_mean(tf.nn.softmax_cross_entropy_with_logits(logits = y_predict, labels=y_label))"
   ]
  },
  {
   "cell_type": "markdown",
   "metadata": {},
   "source": [
    "定义优化器"
   ]
  },
  {
   "cell_type": "code",
   "execution_count": 49,
   "metadata": {},
   "outputs": [],
   "source": [
    "optimizer = tf.train.AdamOptimizer(learning_rate=0.001).minimize(loss_function)"
   ]
  },
  {
   "cell_type": "markdown",
   "metadata": {},
   "source": [
    "定义评估模型准确率的方式"
   ]
  },
  {
   "cell_type": "code",
   "execution_count": 50,
   "metadata": {},
   "outputs": [],
   "source": [
    "correct_prediction = tf.equal(tf.arg_max(y_label, 1), tf.arg_max(y_predict, 1))\n",
    "accuracy = tf.reduce_mean(tf.cast(correct_prediction, 'float'))"
   ]
  },
  {
   "cell_type": "markdown",
   "metadata": {},
   "source": [
    "定义训练参数"
   ]
  },
  {
   "cell_type": "code",
   "execution_count": 51,
   "metadata": {},
   "outputs": [],
   "source": [
    "trainEpochs = 15 #设置训练周期为15个周期\n",
    "batchSize = 100 #每一批次的项数是100\n",
    "totalBatchs = int(mnist.train.images.shape[0] / batchSize) #设置训练批次数\n",
    "loss_list=[]; epoch_list = []; accuracy_list=[]\n",
    "#初始化训练周期，误差，准确率。后续每一个训练周期完成之后，会记录误差与准确率，在下一个步骤以图形显示出来\n",
    "from time import time #导入时间模块\n",
    "startTime = time() #开始计算时间\n",
    "\n",
    "sess = tf.Session() #建立Tensorflow Session\n",
    "sess.run(tf.global_variables_initializer()) #初始化Tensorflow global变量"
   ]
  },
  {
   "cell_type": "markdown",
   "metadata": {},
   "source": [
    "开始训练"
   ]
  },
  {
   "cell_type": "code",
   "execution_count": 52,
   "metadata": {},
   "outputs": [
    {
     "name": "stdout",
     "output_type": "stream",
     "text": [
      "Train Epoch: 01 Loss= 120.116302490 Accuracy= 0.925\n",
      "Train Epoch: 02 Loss= 82.376991272 Accuracy= 0.939\n",
      "Train Epoch: 03 Loss= 72.049995422 Accuracy= 0.946\n",
      "Train Epoch: 04 Loss= 76.589660645 Accuracy= 0.9424\n",
      "Train Epoch: 05 Loss= 65.600379944 Accuracy= 0.9524\n",
      "Train Epoch: 06 Loss= 58.630573273 Accuracy= 0.955\n",
      "Train Epoch: 07 Loss= 59.491443634 Accuracy= 0.953\n",
      "Train Epoch: 08 Loss= 55.406654358 Accuracy= 0.9578\n",
      "Train Epoch: 09 Loss= 54.726650238 Accuracy= 0.9584\n",
      "Train Epoch: 10 Loss= 53.823867798 Accuracy= 0.9574\n",
      "Train Epoch: 11 Loss= 59.155906677 Accuracy= 0.9596\n",
      "Train Epoch: 12 Loss= 54.265499115 Accuracy= 0.9636\n",
      "Train Epoch: 13 Loss= 56.685112000 Accuracy= 0.9566\n",
      "Train Epoch: 14 Loss= 52.252895355 Accuracy= 0.9656\n",
      "Train Epoch: 15 Loss= 48.289386749 Accuracy= 0.9688\n",
      "Train Finished takes: 190.25079107284546\n"
     ]
    }
   ],
   "source": [
    "for epoch in range(trainEpochs): #执行15个训练周期\n",
    "    #执行550批次训练，使用优化器进行训练，使误差最小化\n",
    "    for i in range(totalBatchs): \n",
    "        batch_x, batch_y = mnist.train.next_batch(batchSize)\n",
    "        sess.run(optimizer, feed_dict={x: batch_x, y_label: batch_y})\n",
    "    #550批次训练完成后，使用验证数据计算此次训练周期后的误差和准确率\n",
    "    loss, acc = sess.run([loss_function, accuracy],\n",
    "                         feed_dict={x: mnist.validation.images, y_label: mnist.validation.labels})\n",
    "    #显示训练结果，并且存入列表\n",
    "    epoch_list.append(epoch)\n",
    "    loss_list.append(loss)\n",
    "    accuracy_list.append(acc)\n",
    "    print('Train Epoch:', '%02d' %(epoch + 1), 'Loss=', '{:.9f}'.format(loss), 'Accuracy=', acc)\n",
    "#计算并显示全部运行时间\n",
    "duration = time() - startTime\n",
    "print('Train Finished takes:', duration)"
   ]
  },
  {
   "cell_type": "markdown",
   "metadata": {},
   "source": [
    "预测准确率"
   ]
  },
  {
   "cell_type": "code",
   "execution_count": 54,
   "metadata": {},
   "outputs": [
    {
     "name": "stdout",
     "output_type": "stream",
     "text": [
      "Accuracy: 0.9642\n"
     ]
    }
   ],
   "source": [
    "print('Accuracy:', sess.run(accuracy, feed_dict={x: mnist.test.images, y_label: mnist.test.labels}))"
   ]
  },
  {
   "cell_type": "markdown",
   "metadata": {},
   "source": [
    "准确率超过了0.96，稍微有点提高"
   ]
  }
 ],
 "metadata": {
  "kernelspec": {
   "display_name": "Python 3",
   "language": "python",
   "name": "python3"
  },
  "language_info": {
   "codemirror_mode": {
    "name": "ipython",
    "version": 3
   },
   "file_extension": ".py",
   "mimetype": "text/x-python",
   "name": "python",
   "nbconvert_exporter": "python",
   "pygments_lexer": "ipython3",
   "version": "3.6.5"
  }
 },
 "nbformat": 4,
 "nbformat_minor": 2
}
