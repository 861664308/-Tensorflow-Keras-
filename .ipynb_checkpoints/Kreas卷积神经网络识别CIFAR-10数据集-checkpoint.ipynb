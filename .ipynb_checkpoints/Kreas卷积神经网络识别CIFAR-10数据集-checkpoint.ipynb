{
 "cells": [
  {
   "cell_type": "markdown",
   "metadata": {},
   "source": [
    "本节我们利用卷积神经网络对CIFAR-10数据集进行识别，卷积神经网络可以分为两大部分。\n",
    "\n",
    "首先是图像的特征提取：通过卷积层1，池化层1，卷积层2，池化层2的处理，提取图像的特征\n",
    "\n",
    "然后是一个全连接神经网络：包含平坦层，隐藏层和输出层组成的类神经网路"
   ]
  },
  {
   "cell_type": "markdown",
   "metadata": {},
   "source": [
    "# 数据预处理"
   ]
  },
  {
   "cell_type": "raw",
   "metadata": {},
   "source": [
    "导入所需模块"
   ]
  },
  {
   "cell_type": "code",
   "execution_count": 1,
   "metadata": {},
   "outputs": [
    {
     "name": "stderr",
     "output_type": "stream",
     "text": [
      "Using TensorFlow backend.\n"
     ]
    }
   ],
   "source": [
    "from keras.datasets import cifar10\n",
    "import numpy as np\n",
    "np.random.seed(10)"
   ]
  },
  {
   "cell_type": "raw",
   "metadata": {},
   "source": [
    "读取CIFAR-10数据"
   ]
  },
  {
   "cell_type": "code",
   "execution_count": 2,
   "metadata": {},
   "outputs": [],
   "source": [
    "(x_img_train, y_label_train), (x_img_test, y_label_test) = cifar10.load_data()"
   ]
  },
  {
   "cell_type": "raw",
   "metadata": {},
   "source": [
    "显示训练与验证数据的shape"
   ]
  },
  {
   "cell_type": "code",
   "execution_count": 3,
   "metadata": {},
   "outputs": [
    {
     "name": "stdout",
     "output_type": "stream",
     "text": [
      "train data: images: (50000, 32, 32, 3) labels: (50000, 1)\n",
      "test data: images: (10000, 32, 32, 3) labels: (10000, 1)\n"
     ]
    }
   ],
   "source": [
    "print('train data:', 'images:', x_img_train.shape, 'labels:', y_label_train.shape)\n",
    "print('test data:', 'images:', x_img_test.shape, 'labels:', y_label_test.shape)"
   ]
  },
  {
   "cell_type": "raw",
   "metadata": {},
   "source": [
    "将features（图像图片特征值）标准化"
   ]
  },
  {
   "cell_type": "code",
   "execution_count": 4,
   "metadata": {},
   "outputs": [],
   "source": [
    "x_img_train_normalize = x_img_train.astype('float32') / 255.0\n",
    "x_img_test_normalize = x_img_test.astype('float32') / 255.0"
   ]
  },
  {
   "cell_type": "raw",
   "metadata": {},
   "source": [
    "将labels转换为OneHot编码"
   ]
  },
  {
   "cell_type": "code",
   "execution_count": 5,
   "metadata": {},
   "outputs": [],
   "source": [
    "from keras.utils import np_utils\n",
    "y_label_train_OneHot = np_utils.to_categorical(y_label_train)\n",
    "y_label_test_OneHot = np_utils.to_categorical(y_label_test)"
   ]
  },
  {
   "cell_type": "markdown",
   "metadata": {},
   "source": [
    "# 建立模型"
   ]
  },
  {
   "cell_type": "markdown",
   "metadata": {},
   "source": [
    "导入所需模块"
   ]
  },
  {
   "cell_type": "code",
   "execution_count": 6,
   "metadata": {},
   "outputs": [],
   "source": [
    "from keras.models import Sequential\n",
    "from keras.layers import Dense, Dropout, Activation, Flatten\n",
    "from keras.layers import Conv2D, MaxPooling2D, ZeroPadding2D"
   ]
  },
  {
   "cell_type": "raw",
   "metadata": {},
   "source": [
    "建立keras的Sequential模型"
   ]
  },
  {
   "cell_type": "code",
   "execution_count": 7,
   "metadata": {},
   "outputs": [],
   "source": [
    "model = Sequential() "
   ]
  },
  {
   "cell_type": "raw",
   "metadata": {},
   "source": [
    "建立卷积层1和池化层1，一个完整的卷积运算包含一个卷积层和一个池化层"
   ]
  },
  {
   "cell_type": "raw",
   "metadata": {},
   "source": [
    "建立卷积层1"
   ]
  },
  {
   "cell_type": "code",
   "execution_count": 8,
   "metadata": {},
   "outputs": [],
   "source": [
    "model.add(Conv2D(filters=32, kernel_size=(3,3), input_shape = (32, 32, 3), activation='relu', padding='same'))"
   ]
  },
  {
   "cell_type": "raw",
   "metadata": {},
   "source": [
    "加入DropOut避免过拟合，这里每次迭代设置随即放弃25%的神经元"
   ]
  },
  {
   "cell_type": "code",
   "execution_count": 9,
   "metadata": {},
   "outputs": [],
   "source": [
    "model.add(Dropout(rate = 0.25))"
   ]
  },
  {
   "cell_type": "raw",
   "metadata": {},
   "source": [
    "建立池化层1，将每一个32 × 32 的图像缩小为16 × 16"
   ]
  },
  {
   "cell_type": "code",
   "execution_count": 10,
   "metadata": {},
   "outputs": [],
   "source": [
    "model.add(MaxPooling2D(pool_size=(2,2)))"
   ]
  },
  {
   "cell_type": "raw",
   "metadata": {},
   "source": [
    "建立卷积层2和池化层2"
   ]
  },
  {
   "cell_type": "raw",
   "metadata": {},
   "source": [
    "建立卷积层2"
   ]
  },
  {
   "cell_type": "code",
   "execution_count": 11,
   "metadata": {},
   "outputs": [],
   "source": [
    "model.add(Conv2D(filters=64, kernel_size=(3,3),activation='relu', padding='same'))"
   ]
  },
  {
   "cell_type": "raw",
   "metadata": {},
   "source": [
    "加入DropOut避免过拟合"
   ]
  },
  {
   "cell_type": "code",
   "execution_count": 12,
   "metadata": {},
   "outputs": [],
   "source": [
    "model.add(Dropout(0.25))"
   ]
  },
  {
   "cell_type": "raw",
   "metadata": {},
   "source": [
    "建立池化层2，将16 × 16的图像转化为8 × 8，数量保持不变，仍为64"
   ]
  },
  {
   "cell_type": "code",
   "execution_count": 13,
   "metadata": {},
   "outputs": [],
   "source": [
    "model.add(MaxPooling2D(pool_size=(2,2)))"
   ]
  },
  {
   "cell_type": "raw",
   "metadata": {},
   "source": [
    "建立神经网络"
   ]
  },
  {
   "cell_type": "raw",
   "metadata": {},
   "source": [
    "建立平坦层，将池化层2的64个8 × 8的图像转换为一维向量，长度是64 × 8 × 8 = 4096，就是4096个float数，并加入Dropout(0.25)避免过拟合"
   ]
  },
  {
   "cell_type": "code",
   "execution_count": 14,
   "metadata": {},
   "outputs": [],
   "source": [
    "model.add(Flatten())\n",
    "model.add(Dropout(0.25))"
   ]
  },
  {
   "cell_type": "raw",
   "metadata": {},
   "source": [
    "建立隐藏层，共有1024个神经元，并加入DropOut(0.25)避免过拟合"
   ]
  },
  {
   "cell_type": "code",
   "execution_count": 15,
   "metadata": {},
   "outputs": [],
   "source": [
    "model.add(Dense(1024, activation='relu'))\n",
    "model.add(Dropout(rate = 0.25))"
   ]
  },
  {
   "cell_type": "raw",
   "metadata": {},
   "source": [
    "建立输出层，一共有1024个神经元，对应0-9一共10个图像类别，并用softmax进行转换"
   ]
  },
  {
   "cell_type": "code",
   "execution_count": 16,
   "metadata": {},
   "outputs": [],
   "source": [
    "model.add(Dense(10, activation='softmax'))"
   ]
  },
  {
   "cell_type": "raw",
   "metadata": {},
   "source": [
    "查看模型摘要"
   ]
  },
  {
   "cell_type": "code",
   "execution_count": 17,
   "metadata": {},
   "outputs": [
    {
     "name": "stdout",
     "output_type": "stream",
     "text": [
      "_________________________________________________________________\n",
      "Layer (type)                 Output Shape              Param #   \n",
      "=================================================================\n",
      "conv2d_1 (Conv2D)            (None, 32, 32, 32)        896       \n",
      "_________________________________________________________________\n",
      "dropout_1 (Dropout)          (None, 32, 32, 32)        0         \n",
      "_________________________________________________________________\n",
      "max_pooling2d_1 (MaxPooling2 (None, 16, 16, 32)        0         \n",
      "_________________________________________________________________\n",
      "conv2d_2 (Conv2D)            (None, 16, 16, 64)        18496     \n",
      "_________________________________________________________________\n",
      "dropout_2 (Dropout)          (None, 16, 16, 64)        0         \n",
      "_________________________________________________________________\n",
      "max_pooling2d_2 (MaxPooling2 (None, 8, 8, 64)          0         \n",
      "_________________________________________________________________\n",
      "flatten_1 (Flatten)          (None, 4096)              0         \n",
      "_________________________________________________________________\n",
      "dropout_3 (Dropout)          (None, 4096)              0         \n",
      "_________________________________________________________________\n",
      "dense_1 (Dense)              (None, 1024)              4195328   \n",
      "_________________________________________________________________\n",
      "dropout_4 (Dropout)          (None, 1024)              0         \n",
      "_________________________________________________________________\n",
      "dense_2 (Dense)              (None, 10)                10250     \n",
      "=================================================================\n",
      "Total params: 4,224,970\n",
      "Trainable params: 4,224,970\n",
      "Non-trainable params: 0\n",
      "_________________________________________________________________\n",
      "None\n"
     ]
    }
   ],
   "source": [
    "print(model.summary())"
   ]
  },
  {
   "cell_type": "markdown",
   "metadata": {},
   "source": [
    "# 进行训练"
   ]
  },
  {
   "cell_type": "raw",
   "metadata": {},
   "source": [
    "定义训练方式"
   ]
  },
  {
   "cell_type": "code",
   "execution_count": 18,
   "metadata": {},
   "outputs": [],
   "source": [
    "model.compile(loss='categorical_crossentropy', optimizer='adam', metrics=['accuracy'])"
   ]
  },
  {
   "cell_type": "raw",
   "metadata": {},
   "source": [
    "开始训练"
   ]
  },
  {
   "cell_type": "code",
   "execution_count": 19,
   "metadata": {
    "scrolled": true
   },
   "outputs": [
    {
     "name": "stdout",
     "output_type": "stream",
     "text": [
      "Train on 40000 samples, validate on 10000 samples\n",
      "Epoch 1/10\n",
      " - 117s - loss: 1.5013 - acc: 0.4598 - val_loss: 1.2852 - val_acc: 0.5757\n",
      "Epoch 2/10\n",
      " - 114s - loss: 1.1447 - acc: 0.5938 - val_loss: 1.1201 - val_acc: 0.6316\n",
      "Epoch 3/10\n",
      " - 113s - loss: 0.9862 - acc: 0.6532 - val_loss: 1.0116 - val_acc: 0.6655\n",
      "Epoch 4/10\n",
      " - 113s - loss: 0.8786 - acc: 0.6905 - val_loss: 0.9643 - val_acc: 0.6853\n",
      "Epoch 5/10\n",
      " - 114s - loss: 0.7972 - acc: 0.7198 - val_loss: 0.9035 - val_acc: 0.6964\n",
      "Epoch 6/10\n",
      " - 112s - loss: 0.7148 - acc: 0.7478 - val_loss: 0.8678 - val_acc: 0.7078\n",
      "Epoch 7/10\n",
      " - 113s - loss: 0.6390 - acc: 0.7747 - val_loss: 0.8378 - val_acc: 0.7167\n",
      "Epoch 8/10\n",
      " - 112s - loss: 0.5713 - acc: 0.7991 - val_loss: 0.7935 - val_acc: 0.7384\n",
      "Epoch 9/10\n",
      " - 112s - loss: 0.4952 - acc: 0.8270 - val_loss: 0.7912 - val_acc: 0.7278\n",
      "Epoch 10/10\n",
      " - 113s - loss: 0.4411 - acc: 0.8465 - val_loss: 0.7709 - val_acc: 0.7356\n"
     ]
    }
   ],
   "source": [
    "train_history = model.fit(x_img_train_normalize, y_label_train_OneHot, validation_split=0.2, epochs=10, batch_size=128, verbose=2)"
   ]
  },
  {
   "cell_type": "raw",
   "metadata": {},
   "source": [
    "可以看出误差越来越小，准确率越来越高"
   ]
  },
  {
   "cell_type": "raw",
   "metadata": {},
   "source": [
    "画出准确率执行结果"
   ]
  },
  {
   "cell_type": "code",
   "execution_count": 20,
   "metadata": {},
   "outputs": [],
   "source": [
    "import matplotlib.pyplot as plt\n",
    "def show_train_history(train_history, train, validation):#输入参数：训练产生的train_history,训练数据执行结果,验证数据执行结果\n",
    "    plt.plot(train_history.history[train])\n",
    "    plt.plot(train_history.history[validation])\n",
    "    plt.title('Train History')\n",
    "    plt.ylabel('Train')\n",
    "    plt.xlabel('Epoch')\n",
    "    plt.legend(['train', 'validation'], loc = 'upper left')#显示图例，且位于左上角\n",
    "    plt.show()"
   ]
  },
  {
   "cell_type": "code",
   "execution_count": 21,
   "metadata": {},
   "outputs": [
    {
     "data": {
      "image/png": "[encoded data removed]",
      "text/plain": [
       "<Figure size 432x288 with 1 Axes>"
      ]
     },
     "metadata": {},
     "output_type": "display_data"
    }
   ],
   "source": [
    "show_train_history(train_history, 'acc', 'val_acc')"
   ]
  },
  {
   "cell_type": "raw",
   "metadata": {},
   "source": [
    "可以看出，无论是训练集还是验证集，准确率都是越来越高，而且后期训练集的准确率比验证集高"
   ]
  },
  {
   "cell_type": "raw",
   "metadata": {},
   "source": [
    "画出误差执行结果"
   ]
  },
  {
   "cell_type": "code",
   "execution_count": 22,
   "metadata": {},
   "outputs": [
    {
     "data": {
      "image/png": "[encoded data removed]",
      "text/plain": [
       "<Figure size 432x288 with 1 Axes>"
      ]
     },
     "metadata": {},
     "output_type": "display_data"
    }
   ],
   "source": [
    "show_train_history(train_history, 'loss', 'val_loss')"
   ]
  },
  {
   "cell_type": "markdown",
   "metadata": {},
   "source": [
    "无论是训练集还是验证集，误差都是越来越小，而且后期训练集误差比验证集小。"
   ]
  },
  {
   "cell_type": "markdown",
   "metadata": {},
   "source": [
    "# 评估模型的准确率"
   ]
  },
  {
   "cell_type": "code",
   "execution_count": 22,
   "metadata": {},
   "outputs": [
    {
     "data": {
      "text/plain": [
       "0.7341"
      ]
     },
     "execution_count": 22,
     "metadata": {},
     "output_type": "execute_result"
    }
   ],
   "source": [
    "scores = model.evaluate(x_img_test_normalize, y_label_test_OneHot, verbose=0)\n",
    "scores[1]"
   ]
  },
  {
   "cell_type": "raw",
   "metadata": {},
   "source": [
    "准确率为0.73"
   ]
  },
  {
   "cell_type": "markdown",
   "metadata": {},
   "source": [
    "# 进行预测"
   ]
  },
  {
   "cell_type": "raw",
   "metadata": {},
   "source": [
    "执行预测"
   ]
  },
  {
   "cell_type": "code",
   "execution_count": 24,
   "metadata": {},
   "outputs": [],
   "source": [
    "prediction = model.predict_classes(x_img_test_normalize)"
   ]
  },
  {
   "cell_type": "raw",
   "metadata": {},
   "source": [
    "预测结果"
   ]
  },
  {
   "cell_type": "code",
   "execution_count": 25,
   "metadata": {},
   "outputs": [
    {
     "data": {
      "text/plain": [
       "array([3, 8, 8, 0, 6, 6, 1, 6, 3, 1], dtype=int64)"
      ]
     },
     "execution_count": 25,
     "metadata": {},
     "output_type": "execute_result"
    }
   ],
   "source": [
    "prediction[: 10]"
   ]
  },
  {
   "cell_type": "raw",
   "metadata": {},
   "source": [
    "查看前10项预测结果"
   ]
  },
  {
   "cell_type": "code",
   "execution_count": 26,
   "metadata": {},
   "outputs": [],
   "source": [
    "import matplotlib.pyplot as plt\n",
    "def plot_images_labels_prediction(images, labels, prediction, idx, num = 10):\n",
    "#函数的参数分别是images（数字图像），labels（真实值），prediction（预测结果），idx(开始显示的数据index)，num(要显示的数据项数，默认是10.不超过25)\n",
    "    fig = plt.gcf()\n",
    "    fig.set_size_inches(12, 14)\n",
    "    if num > 25: num = 25\n",
    "    for i in range(0, num):\n",
    "        #绘制图形\n",
    "        ax = plt.subplot(5, 5, i + 1)\n",
    "        ax.imshow(images[idx], cmap = 'binary')\n",
    "        title = str(i) + '.' + label_dict[labels[i][0]]#设置标题\n",
    "        if len(prediction)>0:#如果传入了预测结果\n",
    "            title+= '=>' + label_dict[prediction[i]]#标题\n",
    "        \n",
    "        ax.set_title(title, fontsize = 10)#设置子图形标题\n",
    "        ax.set_xticks([]);ax.set_yticks([])#设置不显示刻度\n",
    "        idx+=1#读取下一项\n",
    "    plt.show()"
   ]
  },
  {
   "cell_type": "code",
   "execution_count": 27,
   "metadata": {},
   "outputs": [],
   "source": [
    "label_dict = {0 : 'airplane' , 1 : 'automobile', 2 : 'bird', 3 : 'cat', 4 : 'deer', \n",
    "             5 : 'dog', 6 : 'frog', 7 : 'horse', 8 : 'ship', 9 : 'truck'}"
   ]
  },
  {
   "cell_type": "code",
   "execution_count": 28,
   "metadata": {},
   "outputs": [
    {
     "data": {
      "image/png": "[encoded data removed]",
      "text/plain": [
       "<Figure size 864x1008 with 10 Axes>"
      ]
     },
     "metadata": {},
     "output_type": "display_data"
    }
   ],
   "source": [
    "plot_images_labels_prediction(x_img_test, y_label_test, prediction, 0, 10)"
   ]
  },
  {
   "cell_type": "raw",
   "metadata": {},
   "source": [
    "全部预测正确"
   ]
  },
  {
   "cell_type": "markdown",
   "metadata": {},
   "source": [
    "# 查看预测概率"
   ]
  },
  {
   "cell_type": "raw",
   "metadata": {},
   "source": [
    "使用测试数据进行预测"
   ]
  },
  {
   "cell_type": "code",
   "execution_count": 30,
   "metadata": {},
   "outputs": [],
   "source": [
    "Predicred_Probability = model.predict(x_img_test_normalize)"
   ]
  },
  {
   "cell_type": "raw",
   "metadata": {},
   "source": [
    "建立show_Predicted_Probability函数"
   ]
  },
  {
   "cell_type": "code",
   "execution_count": 33,
   "metadata": {},
   "outputs": [],
   "source": [
    "def show_Predicted_Probability(y, prediction, x_img, Predicred_Probability, i):\n",
    "    #输入参数分别为真实值，预测结果，预测的图像，预测概率，开始显示的数据\n",
    "    \n",
    "    #显示真实值和预测结果\n",
    "    print('label:', label_dict[y[i][0]], 'predict:',label_dict[prediction[i]])\n",
    "    \n",
    "    #设置图像大小，并显示图像照片\n",
    "    plt.figure(figsize=(2, 2))\n",
    "    plt.imshow(np.reshape(x_img_test[i], (32, 32, 3)))\n",
    "    plt.show()\n",
    "    \n",
    "    #使用for循环读取Predicted_Probability显示预测概率\n",
    "    for j in range(10):\n",
    "        print(label_dict[j] + ' Probability:%1.9f'%(Predicred_Probability[i][j]))"
   ]
  },
  {
   "cell_type": "raw",
   "metadata": {},
   "source": [
    "查看第0项数据的预测概率"
   ]
  },
  {
   "cell_type": "code",
   "execution_count": 35,
   "metadata": {},
   "outputs": [
    {
     "name": "stdout",
     "output_type": "stream",
     "text": [
      "label: cat predict: cat\n"
     ]
    },
    {
     "data": {
      "image/png": "[encoded data removed]",
      "text/plain": [
       "<Figure size 144x144 with 1 Axes>"
      ]
     },
     "metadata": {},
     "output_type": "display_data"
    },
    {
     "name": "stdout",
     "output_type": "stream",
     "text": [
      "airplane Probability:0.010796775\n",
      "automobile Probability:0.005239377\n",
      "bird Probability:0.038103689\n",
      "cat Probability:0.368458748\n",
      "deer Probability:0.018060206\n",
      "dog Probability:0.352402121\n",
      "frog Probability:0.184063271\n",
      "horse Probability:0.004228084\n",
      "ship Probability:0.011669701\n",
      "truck Probability:0.006978075\n"
     ]
    }
   ],
   "source": [
    "show_Predicted_Probability(y_label_test, prediction, x_img_test, Predicred_Probability, 0)"
   ]
  },
  {
   "cell_type": "raw",
   "metadata": {},
   "source": [
    "可以看出，预测为猫的概率最高，预测为狗的概率次高，但是二者很接近"
   ]
  },
  {
   "cell_type": "raw",
   "metadata": {},
   "source": [
    "查看第三项数据预测的概率"
   ]
  },
  {
   "cell_type": "code",
   "execution_count": 37,
   "metadata": {},
   "outputs": [
    {
     "name": "stdout",
     "output_type": "stream",
     "text": [
      "label: airplane predict: airplane\n"
     ]
    },
    {
     "data": {
      "image/png": "[encoded data removed]",
      "text/plain": [
       "<Figure size 144x144 with 1 Axes>"
      ]
     },
     "metadata": {},
     "output_type": "display_data"
    },
    {
     "name": "stdout",
     "output_type": "stream",
     "text": [
      "airplane Probability:0.666023433\n",
      "automobile Probability:0.004257306\n",
      "bird Probability:0.076016106\n",
      "cat Probability:0.001304134\n",
      "deer Probability:0.004320294\n",
      "dog Probability:0.000061885\n",
      "frog Probability:0.000117731\n",
      "horse Probability:0.000029754\n",
      "ship Probability:0.246716410\n",
      "truck Probability:0.001152929\n"
     ]
    }
   ],
   "source": [
    "show_Predicted_Probability(y_label_test, prediction, x_img_test, Predicred_Probability, 3)"
   ]
  },
  {
   "cell_type": "raw",
   "metadata": {},
   "source": [
    "预测为飞机的概率最高，预测为船的概率次高"
   ]
  },
  {
   "cell_type": "markdown",
   "metadata": {},
   "source": [
    "# 显示混淆矩阵"
   ]
  },
  {
   "cell_type": "raw",
   "metadata": {},
   "source": [
    "查看预测结果的形状"
   ]
  },
  {
   "cell_type": "code",
   "execution_count": 39,
   "metadata": {},
   "outputs": [
    {
     "data": {
      "text/plain": [
       "(10000,)"
      ]
     },
     "execution_count": 39,
     "metadata": {},
     "output_type": "execute_result"
    }
   ],
   "source": [
    "prediction.shape"
   ]
  },
  {
   "cell_type": "raw",
   "metadata": {},
   "source": [
    "执行结果是一维数组"
   ]
  },
  {
   "cell_type": "raw",
   "metadata": {},
   "source": [
    "查看y_label_test的真实形状"
   ]
  },
  {
   "cell_type": "code",
   "execution_count": 40,
   "metadata": {},
   "outputs": [
    {
     "data": {
      "text/plain": [
       "(10000, 1)"
      ]
     },
     "execution_count": 40,
     "metadata": {},
     "output_type": "execute_result"
    }
   ],
   "source": [
    "y_label_test.shape"
   ]
  },
  {
   "cell_type": "raw",
   "metadata": {},
   "source": [
    "y_label_test是二维数组，必须将其转换为一维数组"
   ]
  },
  {
   "cell_type": "raw",
   "metadata": {},
   "source": [
    "将y_label_test转换成一维数组"
   ]
  },
  {
   "cell_type": "code",
   "execution_count": 41,
   "metadata": {},
   "outputs": [
    {
     "data": {
      "text/plain": [
       "array([3, 8, 8, ..., 5, 1, 7])"
      ]
     },
     "execution_count": 41,
     "metadata": {},
     "output_type": "execute_result"
    }
   ],
   "source": [
    "y_label_test.reshape(-1)"
   ]
  },
  {
   "cell_type": "raw",
   "metadata": {},
   "source": [
    "使用pandas crosstab建立混淆矩阵"
   ]
  },
  {
   "cell_type": "code",
   "execution_count": 43,
   "metadata": {},
   "outputs": [
    {
     "name": "stdout",
     "output_type": "stream",
     "text": [
      "{0: 'airplane', 1: 'automobile', 2: 'bird', 3: 'cat', 4: 'deer', 5: 'dog', 6: 'frog', 7: 'horse', 8: 'ship', 9: 'truck'}\n"
     ]
    },
    {
     "data": {
      "text/html": [
       "<div>\n",
       "<style scoped>\n",
       "    .dataframe tbody tr th:only-of-type {\n",
       "        vertical-align: middle;\n",
       "    }\n",
       "\n",
       "    .dataframe tbody tr th {\n",
       "        vertical-align: top;\n",
       "    }\n",
       "\n",
       "    .dataframe thead th {\n",
       "        text-align: right;\n",
       "    }\n",
       "</style>\n",
       "<table border=\"1\" class=\"dataframe\">\n",
       "  <thead>\n",
       "    <tr style=\"text-align: right;\">\n",
       "      <th>predict</th>\n",
       "      <th>0</th>\n",
       "      <th>1</th>\n",
       "      <th>2</th>\n",
       "      <th>3</th>\n",
       "      <th>4</th>\n",
       "      <th>5</th>\n",
       "      <th>6</th>\n",
       "      <th>7</th>\n",
       "      <th>8</th>\n",
       "      <th>9</th>\n",
       "    </tr>\n",
       "    <tr>\n",
       "      <th>label</th>\n",
       "      <th></th>\n",
       "      <th></th>\n",
       "      <th></th>\n",
       "      <th></th>\n",
       "      <th></th>\n",
       "      <th></th>\n",
       "      <th></th>\n",
       "      <th></th>\n",
       "      <th></th>\n",
       "      <th></th>\n",
       "    </tr>\n",
       "  </thead>\n",
       "  <tbody>\n",
       "    <tr>\n",
       "      <th>0</th>\n",
       "      <td>795</td>\n",
       "      <td>8</td>\n",
       "      <td>76</td>\n",
       "      <td>10</td>\n",
       "      <td>7</td>\n",
       "      <td>5</td>\n",
       "      <td>18</td>\n",
       "      <td>3</td>\n",
       "      <td>48</td>\n",
       "      <td>30</td>\n",
       "    </tr>\n",
       "    <tr>\n",
       "      <th>1</th>\n",
       "      <td>21</td>\n",
       "      <td>814</td>\n",
       "      <td>22</td>\n",
       "      <td>13</td>\n",
       "      <td>5</td>\n",
       "      <td>4</td>\n",
       "      <td>19</td>\n",
       "      <td>3</td>\n",
       "      <td>27</td>\n",
       "      <td>72</td>\n",
       "    </tr>\n",
       "    <tr>\n",
       "      <th>2</th>\n",
       "      <td>53</td>\n",
       "      <td>1</td>\n",
       "      <td>687</td>\n",
       "      <td>31</td>\n",
       "      <td>70</td>\n",
       "      <td>52</td>\n",
       "      <td>80</td>\n",
       "      <td>16</td>\n",
       "      <td>5</td>\n",
       "      <td>5</td>\n",
       "    </tr>\n",
       "    <tr>\n",
       "      <th>3</th>\n",
       "      <td>21</td>\n",
       "      <td>7</td>\n",
       "      <td>123</td>\n",
       "      <td>473</td>\n",
       "      <td>45</td>\n",
       "      <td>176</td>\n",
       "      <td>116</td>\n",
       "      <td>18</td>\n",
       "      <td>10</td>\n",
       "      <td>11</td>\n",
       "    </tr>\n",
       "    <tr>\n",
       "      <th>4</th>\n",
       "      <td>23</td>\n",
       "      <td>2</td>\n",
       "      <td>128</td>\n",
       "      <td>47</td>\n",
       "      <td>663</td>\n",
       "      <td>22</td>\n",
       "      <td>91</td>\n",
       "      <td>17</td>\n",
       "      <td>6</td>\n",
       "      <td>1</td>\n",
       "    </tr>\n",
       "    <tr>\n",
       "      <th>5</th>\n",
       "      <td>8</td>\n",
       "      <td>3</td>\n",
       "      <td>92</td>\n",
       "      <td>142</td>\n",
       "      <td>38</td>\n",
       "      <td>627</td>\n",
       "      <td>57</td>\n",
       "      <td>24</td>\n",
       "      <td>3</td>\n",
       "      <td>6</td>\n",
       "    </tr>\n",
       "    <tr>\n",
       "      <th>6</th>\n",
       "      <td>4</td>\n",
       "      <td>2</td>\n",
       "      <td>45</td>\n",
       "      <td>30</td>\n",
       "      <td>9</td>\n",
       "      <td>13</td>\n",
       "      <td>894</td>\n",
       "      <td>2</td>\n",
       "      <td>1</td>\n",
       "      <td>0</td>\n",
       "    </tr>\n",
       "    <tr>\n",
       "      <th>7</th>\n",
       "      <td>16</td>\n",
       "      <td>0</td>\n",
       "      <td>55</td>\n",
       "      <td>27</td>\n",
       "      <td>74</td>\n",
       "      <td>67</td>\n",
       "      <td>17</td>\n",
       "      <td>732</td>\n",
       "      <td>3</td>\n",
       "      <td>9</td>\n",
       "    </tr>\n",
       "    <tr>\n",
       "      <th>8</th>\n",
       "      <td>55</td>\n",
       "      <td>28</td>\n",
       "      <td>37</td>\n",
       "      <td>13</td>\n",
       "      <td>5</td>\n",
       "      <td>8</td>\n",
       "      <td>14</td>\n",
       "      <td>1</td>\n",
       "      <td>822</td>\n",
       "      <td>17</td>\n",
       "    </tr>\n",
       "    <tr>\n",
       "      <th>9</th>\n",
       "      <td>42</td>\n",
       "      <td>66</td>\n",
       "      <td>23</td>\n",
       "      <td>16</td>\n",
       "      <td>1</td>\n",
       "      <td>10</td>\n",
       "      <td>13</td>\n",
       "      <td>11</td>\n",
       "      <td>24</td>\n",
       "      <td>794</td>\n",
       "    </tr>\n",
       "  </tbody>\n",
       "</table>\n",
       "</div>"
      ],
      "text/plain": [
       "predict    0    1    2    3    4    5    6    7    8    9\n",
       "label                                                    \n",
       "0        795    8   76   10    7    5   18    3   48   30\n",
       "1         21  814   22   13    5    4   19    3   27   72\n",
       "2         53    1  687   31   70   52   80   16    5    5\n",
       "3         21    7  123  473   45  176  116   18   10   11\n",
       "4         23    2  128   47  663   22   91   17    6    1\n",
       "5          8    3   92  142   38  627   57   24    3    6\n",
       "6          4    2   45   30    9   13  894    2    1    0\n",
       "7         16    0   55   27   74   67   17  732    3    9\n",
       "8         55   28   37   13    5    8   14    1  822   17\n",
       "9         42   66   23   16    1   10   13   11   24  794"
      ]
     },
     "execution_count": 43,
     "metadata": {},
     "output_type": "execute_result"
    }
   ],
   "source": [
    "import pandas as pd\n",
    "print(label_dict)\n",
    "pd.crosstab(y_label_test.reshape(-1), prediction, rownames = ['label'], colnames = ['predict'])"
   ]
  },
  {
   "cell_type": "raw",
   "metadata": {},
   "source": [
    "从混淆矩阵可以得出如下结论\n",
    "蛙是最不容易混淆的，而猫是最容易混淆的\n",
    "猫最容易被混淆成狗，狗也很容易被混淆成猫\n",
    "CIFAR-10数据集可以被分为动物类和交通工具类，动物类不容易被混淆为汽车，而船和卡车则容易被混淆成汽车"
   ]
  },
  {
   "cell_type": "markdown",
   "metadata": {},
   "source": [
    "# 建立三次卷积运算的神经网络"
   ]
  },
  {
   "cell_type": "raw",
   "metadata": {},
   "source": [
    "我们建立三次卷积运算，将图像转换为128个4 * 4的图像，这样，平坦层的输入就是128 * 4 * 4 = 2048个浮点数，并设置隐藏层的神经元为1500个"
   ]
  },
  {
   "cell_type": "code",
   "execution_count": 48,
   "metadata": {},
   "outputs": [],
   "source": [
    "model = Sequential()  "
   ]
  },
  {
   "cell_type": "raw",
   "metadata": {},
   "source": [
    "建立卷积层1和池化层1，增加一次Conv2D卷积运算"
   ]
  },
  {
   "cell_type": "code",
   "execution_count": 49,
   "metadata": {},
   "outputs": [],
   "source": [
    "model.add(Conv2D(filters=32, kernel_size=(3,3), input_shape=(32, 32, 3),activation='relu', padding='same'))\n",
    "model.add(Dropout(0.3))\n",
    "model.add(Conv2D(filters=32, kernel_size=(3,3), activation='relu', padding='same'))\n",
    "model.add(MaxPooling2D(pool_size=(2,2)))"
   ]
  },
  {
   "cell_type": "raw",
   "metadata": {},
   "source": [
    "建立卷积层2和池化层2"
   ]
  },
  {
   "cell_type": "code",
   "execution_count": 50,
   "metadata": {},
   "outputs": [],
   "source": [
    "model.add(Conv2D(filters=64, kernel_size=(3, 3), activation='relu', padding='same'))\n",
    "model.add(Dropout(0.3))\n",
    "model.add(Conv2D(filters=64, kernel_size=(3,3), activation='relu', padding='same'))\n",
    "model.add(MaxPooling2D(pool_size=(2,2)))"
   ]
  },
  {
   "cell_type": "raw",
   "metadata": {},
   "source": [
    "建立卷积层3和池化层3"
   ]
  },
  {
   "cell_type": "code",
   "execution_count": 51,
   "metadata": {},
   "outputs": [],
   "source": [
    "model.add(Conv2D(filters=128, kernel_size=(3,3), activation='relu', padding='same'))\n",
    "model.add(Dropout(0.3))\n",
    "model.add(Conv2D(filters=128, kernel_size=(3,3), activation='relu', padding='same'))\n",
    "model.add(MaxPooling2D(pool_size=(2,2)))"
   ]
  },
  {
   "cell_type": "raw",
   "metadata": {},
   "source": [
    "建立更宽更深的神经网络，包括平坦层，隐藏层1（2500个神经元），隐藏层2（1500个神经元）和输出层"
   ]
  },
  {
   "cell_type": "code",
   "execution_count": 53,
   "metadata": {},
   "outputs": [],
   "source": [
    "model.add(Flatten())\n",
    "model.add(Dropout(0.3))\n",
    "model.add(Dense(2500, activation='relu'))\n",
    "model.add(Dropout(0.3))\n",
    "model.add(Dense(1500, activation='relu'))\n",
    "model.add(Dropout(0.3))\n",
    "model.add(Dense(10, activation='softmax'))"
   ]
  },
  {
   "cell_type": "code",
   "execution_count": 54,
   "metadata": {},
   "outputs": [
    {
     "name": "stdout",
     "output_type": "stream",
     "text": [
      "_________________________________________________________________\n",
      "Layer (type)                 Output Shape              Param #   \n",
      "=================================================================\n",
      "conv2d_5 (Conv2D)            (None, 32, 32, 32)        896       \n",
      "_________________________________________________________________\n",
      "dropout_5 (Dropout)          (None, 32, 32, 32)        0         \n",
      "_________________________________________________________________\n",
      "conv2d_6 (Conv2D)            (None, 32, 32, 32)        9248      \n",
      "_________________________________________________________________\n",
      "max_pooling2d_3 (MaxPooling2 (None, 16, 16, 32)        0         \n",
      "_________________________________________________________________\n",
      "conv2d_7 (Conv2D)            (None, 16, 16, 64)        18496     \n",
      "_________________________________________________________________\n",
      "dropout_6 (Dropout)          (None, 16, 16, 64)        0         \n",
      "_________________________________________________________________\n",
      "conv2d_8 (Conv2D)            (None, 16, 16, 64)        36928     \n",
      "_________________________________________________________________\n",
      "max_pooling2d_4 (MaxPooling2 (None, 8, 8, 64)          0         \n",
      "_________________________________________________________________\n",
      "conv2d_9 (Conv2D)            (None, 8, 8, 128)         73856     \n",
      "_________________________________________________________________\n",
      "dropout_7 (Dropout)          (None, 8, 8, 128)         0         \n",
      "_________________________________________________________________\n",
      "conv2d_10 (Conv2D)           (None, 8, 8, 128)         147584    \n",
      "_________________________________________________________________\n",
      "max_pooling2d_5 (MaxPooling2 (None, 4, 4, 128)         0         \n",
      "_________________________________________________________________\n",
      "flatten_2 (Flatten)          (None, 2048)              0         \n",
      "_________________________________________________________________\n",
      "dropout_8 (Dropout)          (None, 2048)              0         \n",
      "_________________________________________________________________\n",
      "dense_3 (Dense)              (None, 2500)              5122500   \n",
      "_________________________________________________________________\n",
      "dropout_9 (Dropout)          (None, 2500)              0         \n",
      "_________________________________________________________________\n",
      "dense_4 (Dense)              (None, 1500)              3751500   \n",
      "_________________________________________________________________\n",
      "dropout_10 (Dropout)         (None, 1500)              0         \n",
      "_________________________________________________________________\n",
      "dense_5 (Dense)              (None, 10)                15010     \n",
      "=================================================================\n",
      "Total params: 9,176,018\n",
      "Trainable params: 9,176,018\n",
      "Non-trainable params: 0\n",
      "_________________________________________________________________\n",
      "None\n"
     ]
    }
   ],
   "source": [
    "print(model.summary())"
   ]
  },
  {
   "cell_type": "code",
   "execution_count": 55,
   "metadata": {},
   "outputs": [],
   "source": [
    "model.compile(loss='categorical_crossentropy', optimizer='adam', metrics=['accuracy'])"
   ]
  },
  {
   "cell_type": "code",
   "execution_count": 56,
   "metadata": {
    "scrolled": false
   },
   "outputs": [
    {
     "name": "stdout",
     "output_type": "stream",
     "text": [
      "Train on 40000 samples, validate on 10000 samples\n",
      "Epoch 1/50\n",
      " - 360s - loss: 1.8946 - acc: 0.2903 - val_loss: 2.0824 - val_acc: 0.2797\n",
      "Epoch 2/50\n",
      " - 314s - loss: 1.4903 - acc: 0.4519 - val_loss: 1.7084 - val_acc: 0.4020\n",
      "Epoch 3/50\n",
      " - 306s - loss: 1.2970 - acc: 0.5277 - val_loss: 1.3024 - val_acc: 0.5331\n",
      "Epoch 4/50\n",
      " - 307s - loss: 1.1657 - acc: 0.5804 - val_loss: 1.1250 - val_acc: 0.6001\n",
      "Epoch 5/50\n",
      " - 305s - loss: 1.0505 - acc: 0.6250 - val_loss: 1.0112 - val_acc: 0.6386\n",
      "Epoch 6/50\n",
      " - 304s - loss: 0.9607 - acc: 0.6581 - val_loss: 0.9829 - val_acc: 0.6612\n",
      "Epoch 7/50\n",
      " - 305s - loss: 0.8849 - acc: 0.6860 - val_loss: 0.9526 - val_acc: 0.6666\n",
      "Epoch 8/50\n",
      " - 304s - loss: 0.8035 - acc: 0.7171 - val_loss: 0.7898 - val_acc: 0.7268\n",
      "Epoch 9/50\n",
      " - 1578s - loss: 0.7478 - acc: 0.7353 - val_loss: 0.7768 - val_acc: 0.7314\n",
      "Epoch 10/50\n",
      " - 306s - loss: 0.6991 - acc: 0.7515 - val_loss: 0.7903 - val_acc: 0.7243\n",
      "Epoch 11/50\n",
      " - 306s - loss: 0.6497 - acc: 0.7700 - val_loss: 0.7852 - val_acc: 0.7316\n",
      "Epoch 12/50\n",
      " - 310s - loss: 0.6101 - acc: 0.7842 - val_loss: 0.6833 - val_acc: 0.7607\n",
      "Epoch 13/50\n",
      " - 305s - loss: 0.5581 - acc: 0.8003 - val_loss: 0.7349 - val_acc: 0.7544\n",
      "Epoch 14/50\n",
      " - 304s - loss: 0.5314 - acc: 0.8127 - val_loss: 0.7048 - val_acc: 0.7597\n",
      "Epoch 15/50\n",
      " - 305s - loss: 0.4984 - acc: 0.8228 - val_loss: 0.6692 - val_acc: 0.7763\n",
      "Epoch 16/50\n",
      " - 13540s - loss: 0.4578 - acc: 0.8380 - val_loss: 0.6801 - val_acc: 0.7667\n",
      "Epoch 17/50\n",
      " - 300s - loss: 0.4323 - acc: 0.8460 - val_loss: 0.6847 - val_acc: 0.7728\n",
      "Epoch 18/50\n",
      " - 318s - loss: 0.4012 - acc: 0.8580 - val_loss: 0.7722 - val_acc: 0.7567\n",
      "Epoch 19/50\n",
      " - 332s - loss: 0.3887 - acc: 0.8624 - val_loss: 0.6941 - val_acc: 0.7770\n",
      "Epoch 20/50\n",
      " - 327s - loss: 0.3638 - acc: 0.8710 - val_loss: 0.7037 - val_acc: 0.7738\n",
      "Epoch 21/50\n",
      " - 309s - loss: 0.3404 - acc: 0.8790 - val_loss: 0.7460 - val_acc: 0.7685\n",
      "Epoch 22/50\n",
      " - 305s - loss: 0.3134 - acc: 0.8892 - val_loss: 0.7187 - val_acc: 0.7814\n",
      "Epoch 23/50\n",
      " - 304s - loss: 0.3087 - acc: 0.8896 - val_loss: 0.6754 - val_acc: 0.7880\n",
      "Epoch 24/50\n",
      " - 303s - loss: 0.2831 - acc: 0.8990 - val_loss: 0.7221 - val_acc: 0.7898\n",
      "Epoch 25/50\n",
      " - 304s - loss: 0.2904 - acc: 0.8969 - val_loss: 0.7323 - val_acc: 0.7858\n",
      "Epoch 26/50\n",
      " - 305s - loss: 0.2590 - acc: 0.9090 - val_loss: 0.7543 - val_acc: 0.7772\n",
      "Epoch 27/50\n",
      " - 893s - loss: 0.2508 - acc: 0.9104 - val_loss: 0.7029 - val_acc: 0.7899\n",
      "Epoch 28/50\n",
      " - 328s - loss: 0.2447 - acc: 0.9134 - val_loss: 0.6907 - val_acc: 0.7946\n",
      "Epoch 29/50\n",
      " - 312s - loss: 0.2293 - acc: 0.9196 - val_loss: 0.7037 - val_acc: 0.7965\n",
      "Epoch 30/50\n",
      " - 315s - loss: 0.2210 - acc: 0.9242 - val_loss: 0.7252 - val_acc: 0.7971\n",
      "Epoch 31/50\n",
      " - 312s - loss: 0.2140 - acc: 0.9245 - val_loss: 0.7059 - val_acc: 0.7995\n",
      "Epoch 32/50\n",
      " - 310s - loss: 0.2016 - acc: 0.9291 - val_loss: 0.6892 - val_acc: 0.8003\n",
      "Epoch 33/50\n",
      " - 316s - loss: 0.1945 - acc: 0.9315 - val_loss: 0.7254 - val_acc: 0.7948\n",
      "Epoch 34/50\n",
      " - 309s - loss: 0.2030 - acc: 0.9292 - val_loss: 0.7035 - val_acc: 0.7987\n",
      "Epoch 35/50\n",
      " - 1992s - loss: 0.1949 - acc: 0.9306 - val_loss: 0.7164 - val_acc: 0.7991\n",
      "Epoch 36/50\n",
      " - 309s - loss: 0.1960 - acc: 0.9321 - val_loss: 0.7091 - val_acc: 0.8031\n",
      "Epoch 37/50\n",
      " - 303s - loss: 0.1852 - acc: 0.9354 - val_loss: 0.7108 - val_acc: 0.8040\n",
      "Epoch 38/50\n",
      " - 303s - loss: 0.1754 - acc: 0.9392 - val_loss: 0.7405 - val_acc: 0.7957\n",
      "Epoch 39/50\n",
      " - 302s - loss: 0.1682 - acc: 0.9416 - val_loss: 0.7358 - val_acc: 0.8010\n",
      "Epoch 40/50\n",
      " - 306s - loss: 0.1607 - acc: 0.9437 - val_loss: 0.7957 - val_acc: 0.7936\n",
      "Epoch 41/50\n",
      " - 311s - loss: 0.1695 - acc: 0.9404 - val_loss: 0.7208 - val_acc: 0.8027\n",
      "Epoch 42/50\n",
      " - 311s - loss: 0.1659 - acc: 0.9435 - val_loss: 0.7835 - val_acc: 0.7991\n",
      "Epoch 43/50\n",
      " - 307s - loss: 0.1633 - acc: 0.9436 - val_loss: 0.7542 - val_acc: 0.7986\n",
      "Epoch 44/50\n",
      " - 311s - loss: 0.1512 - acc: 0.9479 - val_loss: 0.7636 - val_acc: 0.7987\n",
      "Epoch 45/50\n",
      " - 317s - loss: 0.1574 - acc: 0.9454 - val_loss: 0.7590 - val_acc: 0.8004\n",
      "Epoch 46/50\n",
      " - 304s - loss: 0.1460 - acc: 0.9495 - val_loss: 0.7702 - val_acc: 0.7983\n",
      "Epoch 47/50\n",
      " - 307s - loss: 0.1451 - acc: 0.9504 - val_loss: 0.7885 - val_acc: 0.7969\n",
      "Epoch 48/50\n",
      " - 304s - loss: 0.1481 - acc: 0.9492 - val_loss: 0.7580 - val_acc: 0.8029\n",
      "Epoch 49/50\n",
      " - 314s - loss: 0.1418 - acc: 0.9512 - val_loss: 0.7528 - val_acc: 0.8017\n",
      "Epoch 50/50\n",
      " - 316s - loss: 0.1407 - acc: 0.9522 - val_loss: 0.7639 - val_acc: 0.8033\n"
     ]
    }
   ],
   "source": [
    "train_history = model.fit(x_img_train_normalize, y_label_train_OneHot, validation_split=0.2, epochs=50, batch_size=300, verbose=2)"
   ]
  },
  {
   "cell_type": "raw",
   "metadata": {},
   "source": [
    "评估模型的准确率"
   ]
  },
  {
   "cell_type": "code",
   "execution_count": 57,
   "metadata": {},
   "outputs": [
    {
     "data": {
      "text/plain": [
       "0.7884"
      ]
     },
     "execution_count": 57,
     "metadata": {},
     "output_type": "execute_result"
    }
   ],
   "source": [
    "scores = model.evaluate(x_img_test_normalize, y_label_test_OneHot, verbose=0)\n",
    "scores[1]"
   ]
  },
  {
   "cell_type": "raw",
   "metadata": {},
   "source": [
    "准确率从0.73提升到0.78"
   ]
  },
  {
   "cell_type": "markdown",
   "metadata": {},
   "source": [
    "# 模型的保存和加载"
   ]
  },
  {
   "cell_type": "raw",
   "metadata": {},
   "source": [
    "保存模型权重"
   ]
  },
  {
   "cell_type": "code",
   "execution_count": 64,
   "metadata": {},
   "outputs": [
    {
     "name": "stdout",
     "output_type": "stream",
     "text": [
      "Saved model to disk\n"
     ]
    }
   ],
   "source": [
    "model.save_weights('cifarCnnModel.h5')\n",
    "print(\"Saved model to disk\")"
   ]
  },
  {
   "cell_type": "raw",
   "metadata": {},
   "source": [
    "在训练前先加载模型权重"
   ]
  },
  {
   "cell_type": "code",
   "execution_count": 65,
   "metadata": {},
   "outputs": [
    {
     "name": "stdout",
     "output_type": "stream",
     "text": [
      "加载模型成功!继续训练新模型\n"
     ]
    }
   ],
   "source": [
    "try:\n",
    "    model.load_weights('cifarCnnModel.h5')\n",
    "    print('加载模型成功!继续训练新模型')\n",
    "except:\n",
    "    print('加载模型失败！开始训练一个新模型')"
   ]
  },
  {
   "cell_type": "raw",
   "metadata": {},
   "source": [
    "加载完模型后再来训练模型，这样可以多次训练，每一次的epoch可以设置的小一点。"
   ]
  }
 ],
 "metadata": {
  "kernelspec": {
   "display_name": "Python 3",
   "language": "python",
   "name": "python3"
  },
  "language_info": {
   "codemirror_mode": {
    "name": "ipython",
    "version": 3
   },
   "file_extension": ".py",
   "mimetype": "text/x-python",
   "name": "python",
   "nbconvert_exporter": "python",
   "pygments_lexer": "ipython3",
   "version": "3.6.5"
  }
 },
 "nbformat": 4,
 "nbformat_minor": 2
}
