{
 "cells": [
  {
   "cell_type": "markdown",
   "metadata": {},
   "source": [
    "# Kreas多元感知器识别mnist手写数字图像介绍"
   ]
  },
  {
   "cell_type": "markdown",
   "metadata": {},
   "source": [
    "## 模型介绍"
   ]
  },
  {
   "cell_type": "raw",
   "metadata": {},
   "source": [
    "我们建立含有一个隐藏层的多层感知器模型，输入层为28×28的二维图像数据，将其reshape为一维向量，也就是784个float数，所以输入层有784个神经元；隐藏层模拟内部神经元，含有256个神经元；输出层有10个神经元，就是预测结果，对应我们希望预测的数据，从0-9一共10个数据。"
   ]
  },
  {
   "cell_type": "markdown",
   "metadata": {},
   "source": [
    "## 多层感知器的训练与预测"
   ]
  },
  {
   "cell_type": "markdown",
   "metadata": {},
   "source": [
    "### 训练"
   ]
  },
  {
   "cell_type": "markdown",
   "metadata": {},
   "source": [
    "mnist数据集训练数据一共60000项，经过预处理后会产生Features（数字图像特征值）和Label（数字真实值），然后经过多层感知器模型进行训练，训练好的模型可以作为下一阶段预测使用。"
   ]
  },
  {
   "cell_type": "markdown",
   "metadata": {},
   "source": [
    "### 预测"
   ]
  },
  {
   "cell_type": "raw",
   "metadata": {},
   "source": [
    "输入数字图像，预处理后会产生Features，使用训练完成的多层感知器模型进行预测，结果产生的预测结果是0-9的数字。"
   ]
  },
  {
   "cell_type": "markdown",
   "metadata": {},
   "source": [
    "# 进行数据预处理"
   ]
  },
  {
   "cell_type": "raw",
   "metadata": {},
   "source": [
    "导入所需模块"
   ]
  },
  {
   "cell_type": "code",
   "execution_count": 1,
   "metadata": {},
   "outputs": [
    {
     "name": "stderr",
     "output_type": "stream",
     "text": [
      "Using TensorFlow backend.\n"
     ]
    }
   ],
   "source": [
    "from keras.utils import np_utils\n",
    "import numpy as np\n",
    "np.random.seed(10)"
   ]
  },
  {
   "cell_type": "raw",
   "metadata": {},
   "source": [
    "读取mnist数据"
   ]
  },
  {
   "cell_type": "code",
   "execution_count": 2,
   "metadata": {},
   "outputs": [],
   "source": [
    "from keras.datasets import mnist\n",
    "(x_train_image, y_train_label), (x_test_image, y_test_label) = mnist.load_data()"
   ]
  },
  {
   "cell_type": "markdown",
   "metadata": {},
   "source": [
    "将28×28数字图像reshape成784个float数"
   ]
  },
  {
   "cell_type": "code",
   "execution_count": 3,
   "metadata": {},
   "outputs": [],
   "source": [
    "x_Train = x_train_image.reshape(60000, 784).astype('float32')\n",
    "x_Test = x_test_image.reshape(10000, 784).astype('float32')"
   ]
  },
  {
   "cell_type": "raw",
   "metadata": {},
   "source": [
    "将Features标准化（可以提高预测精度，并且更快地收敛）"
   ]
  },
  {
   "cell_type": "code",
   "execution_count": 4,
   "metadata": {},
   "outputs": [],
   "source": [
    "x_Train_normalize = x_Train / 255\n",
    "x_Test_normalize =  x_Test / 255"
   ]
  },
  {
   "cell_type": "raw",
   "metadata": {},
   "source": [
    "label与One—Hot Encoding进行转换"
   ]
  },
  {
   "cell_type": "code",
   "execution_count": 5,
   "metadata": {},
   "outputs": [],
   "source": [
    "y_Train_OneHot = np_utils.to_categorical(y_train_label)\n",
    "y_Test_OneHot = np_utils.to_categorical(y_test_label)"
   ]
  },
  {
   "cell_type": "markdown",
   "metadata": {},
   "source": [
    "# 建立模型"
   ]
  },
  {
   "cell_type": "raw",
   "metadata": {},
   "source": [
    "建立如下的多层感知器模型，输入层（x）含有784个神经元，隐藏层（h）含有256个神经元，输出层（y）含有10个神经元。"
   ]
  },
  {
   "cell_type": "raw",
   "metadata": {},
   "source": [
    "导入所需模块"
   ]
  },
  {
   "cell_type": "code",
   "execution_count": 6,
   "metadata": {},
   "outputs": [],
   "source": [
    "from keras.models import Sequential\n",
    "from keras.layers import Dense"
   ]
  },
  {
   "cell_type": "raw",
   "metadata": {},
   "source": [
    "建立Sequential模型。这是一个线性堆叠模型，后续只需用model.add()方法将各个神经网络层加入模型即可"
   ]
  },
  {
   "cell_type": "code",
   "execution_count": 7,
   "metadata": {},
   "outputs": [],
   "source": [
    "model = Sequential()"
   ]
  },
  {
   "cell_type": "raw",
   "metadata": {},
   "source": [
    "建立输入层和隐藏层，这里加入Dense神经网络。它的特色是：所有上一层和下一层的神经元完全连接。"
   ]
  },
  {
   "cell_type": "code",
   "execution_count": 8,
   "metadata": {},
   "outputs": [
    {
     "data": {
      "text/plain": [
       "\"\\nunits=256定义隐藏层的神经元个数为256，input_dim = 784设置输入层的神经元个数为784，kernel_initializer = 'normal'\\n表示用正态分布随机数来初始化权重和偏差，activation='relu'设置激活函数为relu\\n\""
      ]
     },
     "execution_count": 8,
     "metadata": {},
     "output_type": "execute_result"
    }
   ],
   "source": [
    "model.add(Dense(units=256, input_dim = 784, kernel_initializer='normal', activation='relu'))\n",
    "'''\n",
    "units=256定义隐藏层的神经元个数为256，input_dim = 784设置输入层的神经元个数为784，kernel_initializer = 'normal'\n",
    "表示用正态分布随机数来初始化权重和偏差，activation='relu'设置激活函数为relu\n",
    "'''"
   ]
  },
  {
   "cell_type": "raw",
   "metadata": {},
   "source": [
    "建立输出层"
   ]
  },
  {
   "cell_type": "code",
   "execution_count": 9,
   "metadata": {},
   "outputs": [
    {
     "data": {
      "text/plain": [
       "\"\\nunits=256定义输出层的神经元个数为10，kernel_initializer = 'normal'表示用正态分布随机数来初始化权重和偏差，activation='relu'\\n设置激活函数为softmax，不需要设置input_dim，keras会自动根据上一层的units是256个神经元设置这一层的input_dim为256个神经元\\n\""
      ]
     },
     "execution_count": 9,
     "metadata": {},
     "output_type": "execute_result"
    }
   ],
   "source": [
    "model.add(Dense(units=10, kernel_initializer='normal', activation='softmax'))\n",
    "'''\n",
    "units=256定义输出层的神经元个数为10，kernel_initializer = 'normal'表示用正态分布随机数来初始化权重和偏差，activation='relu'\n",
    "设置激活函数为softmax，不需要设置input_dim，keras会自动根据上一层的units是256个神经元设置这一层的input_dim为256个神经元\n",
    "'''"
   ]
  },
  {
   "cell_type": "markdown",
   "metadata": {},
   "source": [
    "查看模型摘要"
   ]
  },
  {
   "cell_type": "code",
   "execution_count": 10,
   "metadata": {},
   "outputs": [
    {
     "name": "stdout",
     "output_type": "stream",
     "text": [
      "_________________________________________________________________\n",
      "Layer (type)                 Output Shape              Param #   \n",
      "=================================================================\n",
      "dense_1 (Dense)              (None, 256)               200960    \n",
      "_________________________________________________________________\n",
      "dense_2 (Dense)              (None, 10)                2570      \n",
      "=================================================================\n",
      "Total params: 203,530\n",
      "Trainable params: 203,530\n",
      "Non-trainable params: 0\n",
      "_________________________________________________________________\n",
      "None\n"
     ]
    }
   ],
   "source": [
    "print(model.summary())"
   ]
  },
  {
   "cell_type": "markdown",
   "metadata": {},
   "source": [
    "可以看到一共有两层，隐藏层有256个神经元，因为输入层是和隐藏层一起建立的，所以没有显示输入层。输出层有20个神经元。每一层的Param的计算方法为神经元数量×输入维度+神经元数量，如隐藏层为256×784+256=200960.这里每一层的Param都是超参数（Trainable param），Trainable param越大，代表模型越复杂，训练时间也越长。"
   ]
  },
  {
   "cell_type": "markdown",
   "metadata": {},
   "source": [
    "# 进行训练"
   ]
  },
  {
   "cell_type": "markdown",
   "metadata": {},
   "source": [
    "定义训练方式 "
   ]
  },
  {
   "cell_type": "code",
   "execution_count": 11,
   "metadata": {},
   "outputs": [
    {
     "data": {
      "text/plain": [
       "'\\n参数意义如下\\nloss 设置损失函数，深度学习里面使用交叉熵（cross_entropy）训练效果比较好\\noptimizer 设置训练时，在深度学习中使用adam优化器可以让训练更快递收敛，并提高准确率\\nmetrics 设置评估模型的方式是准确率\\n'"
      ]
     },
     "execution_count": 11,
     "metadata": {},
     "output_type": "execute_result"
    }
   ],
   "source": [
    "model.compile(loss='categorical_crossentropy', optimizer='adam', metrics=['accuracy'])\n",
    "'''\n",
    "参数意义如下\n",
    "loss 设置损失函数，深度学习里面使用交叉熵（cross_entropy）训练效果比较好\n",
    "optimizer 设置训练时，在深度学习中使用adam优化器可以让训练更快递收敛，并提高准确率\n",
    "metrics 设置评估模型的方式是准确率\n",
    "'''"
   ]
  },
  {
   "cell_type": "raw",
   "metadata": {},
   "source": [
    "开始训练"
   ]
  },
  {
   "cell_type": "code",
   "execution_count": 12,
   "metadata": {},
   "outputs": [
    {
     "name": "stdout",
     "output_type": "stream",
     "text": [
      "Train on 48000 samples, validate on 12000 samples\n",
      "Epoch 1/10\n",
      " - 2s - loss: 0.4379 - acc: 0.8830 - val_loss: 0.2181 - val_acc: 0.9407\n",
      "Epoch 2/10\n",
      " - 2s - loss: 0.1908 - acc: 0.9456 - val_loss: 0.1556 - val_acc: 0.9561\n",
      "Epoch 3/10\n",
      " - 2s - loss: 0.1353 - acc: 0.9618 - val_loss: 0.1257 - val_acc: 0.9648\n",
      "Epoch 4/10\n",
      " - 2s - loss: 0.1025 - acc: 0.9704 - val_loss: 0.1119 - val_acc: 0.9679\n",
      "Epoch 5/10\n",
      " - 2s - loss: 0.0809 - acc: 0.9774 - val_loss: 0.0983 - val_acc: 0.9710\n",
      "Epoch 6/10\n",
      " - 2s - loss: 0.0659 - acc: 0.9816 - val_loss: 0.0940 - val_acc: 0.9719\n",
      "Epoch 7/10\n",
      " - 2s - loss: 0.0543 - acc: 0.9851 - val_loss: 0.0919 - val_acc: 0.9734\n",
      "Epoch 8/10\n",
      " - 2s - loss: 0.0459 - acc: 0.9876 - val_loss: 0.0831 - val_acc: 0.9762\n",
      "Epoch 9/10\n",
      " - 2s - loss: 0.0378 - acc: 0.9904 - val_loss: 0.0823 - val_acc: 0.9763\n",
      "Epoch 10/10\n",
      " - 2s - loss: 0.0316 - acc: 0.9917 - val_loss: 0.0807 - val_acc: 0.9760\n"
     ]
    }
   ],
   "source": [
    "train_history = model.fit(x = x_Train_normalize, y = y_Train_OneHot, validation_split=0.2, epochs=10, \n",
    "                          batch_size=200,verbose=2)"
   ]
  },
  {
   "cell_type": "raw",
   "metadata": {},
   "source": [
    "使用model.fit进行训练，训练过程储存在train_history变量中，参数说明如下\n",
    "（1）输入训练数据参数\n",
    "x = x_Train_normalize(features数字图像的特征值)\n",
    "y = y_Train_normalize(label数字图像真实值)\n",
    "(2)validation_split = 0.2设置训练验证数据比为0.2，训练之前keras自动将数据分成80%的训练数据和20%验证数据\n",
    "（3）设置epoch（训练周期）次数和每一批次的项数\n",
    "epoch=10 执行10个训练周期\n",
    "batch_size = 200 每一批次训练200项数据pl\n",
    "（4）verbose = 2设置显示训练过程\n",
    "上述程序代码一共执行10次训练周期，每一次训练执行下列功能：\n",
    "使用48000项数据进行训练，分为一批次200项，所以大约分为240个批次\n",
    "训练完成后，会计算这个训练周期的准确率与误差，并在train_history中增加一项记录\n",
    "\n",
    "从执行结果可以知道，一共执行了10个周期，误差越来越小，准确率越来越高"
   ]
  },
  {
   "cell_type": "raw",
   "metadata": {},
   "source": [
    "建立show_train_history显示训练过程"
   ]
  },
  {
   "cell_type": "code",
   "execution_count": 13,
   "metadata": {},
   "outputs": [],
   "source": [
    "import matplotlib.pyplot as plt\n",
    "def show_train_history(train_history, train, validation):#输入参数：训练产生的train_history,训练数据执行结果,验证数据执行结果\n",
    "    plt.plot(train_history.history[train])\n",
    "    plt.plot(train_history.history[validation])\n",
    "    plt.title('Train History')\n",
    "    plt.ylabel('Train')\n",
    "    plt.xlabel('Epoch')\n",
    "    plt.legend(['train', 'validation'], loc = 'upper left')#显示图例，且位于左上角\n",
    "    plt.show()"
   ]
  },
  {
   "cell_type": "raw",
   "metadata": {},
   "source": [
    "画出准确率执行结果"
   ]
  },
  {
   "cell_type": "code",
   "execution_count": 14,
   "metadata": {},
   "outputs": [
    {
     "data": {
      "image/png": "[encoded data removed]",
      "text/plain": [
       "<Figure size 432x288 with 1 Axes>"
      ]
     },
     "metadata": {
      "needs_background": "light"
     },
     "output_type": "display_data"
    }
   ],
   "source": [
    "show_train_history(train_history, 'acc', 'val_acc')"
   ]
  },
  {
   "cell_type": "raw",
   "metadata": {},
   "source": [
    "可以看出训练后期出现了轻微过拟合现象"
   ]
  },
  {
   "cell_type": "raw",
   "metadata": {},
   "source": [
    "画出误差执行结果"
   ]
  },
  {
   "cell_type": "code",
   "execution_count": 15,
   "metadata": {},
   "outputs": [
    {
     "data": {
      "image/png": "[encoded data removed]",
      "text/plain": [
       "<Figure size 432x288 with 1 Axes>"
      ]
     },
     "metadata": {
      "needs_background": "light"
     },
     "output_type": "display_data"
    }
   ],
   "source": [
    "show_train_history(train_history, 'loss', 'val_loss')"
   ]
  },
  {
   "cell_type": "markdown",
   "metadata": {},
   "source": [
    "# 以测试数据评估模型准确率"
   ]
  },
  {
   "cell_type": "raw",
   "metadata": {},
   "source": [
    "我们用test数据评估模型准确率"
   ]
  },
  {
   "cell_type": "code",
   "execution_count": 16,
   "metadata": {},
   "outputs": [
    {
     "name": "stdout",
     "output_type": "stream",
     "text": [
      "10000/10000 [==============================] - 0s 43us/step\n",
      "\n",
      "accuracy= 0.9762\n"
     ]
    }
   ],
   "source": [
    "scores = model.evaluate(x_Test_normalize, y_Test_OneHot)#使用model.evaluate评估模型准确率，评估后的准确率保存在scores中\n",
    "print()\n",
    "print('accuracy=',scores[1])#显示准确率"
   ]
  },
  {
   "cell_type": "markdown",
   "metadata": {},
   "source": [
    "# 进行预测"
   ]
  },
  {
   "cell_type": "raw",
   "metadata": {},
   "source": [
    "执行预测"
   ]
  },
  {
   "cell_type": "code",
   "execution_count": 21,
   "metadata": {},
   "outputs": [
    {
     "name": "stdout",
     "output_type": "stream",
     "text": [
      "10000/10000 [==============================] - 0s 32us/step\n"
     ]
    }
   ],
   "source": [
    "prediction = model.predict_classes(x_Test)#输入变量x)x_Test,结果储存在predection中"
   ]
  },
  {
   "cell_type": "raw",
   "metadata": {},
   "source": [
    "预测结果"
   ]
  },
  {
   "cell_type": "code",
   "execution_count": 22,
   "metadata": {},
   "outputs": [
    {
     "data": {
      "text/plain": [
       "array([7, 2, 1, ..., 4, 5, 6])"
      ]
     },
     "execution_count": 22,
     "metadata": {},
     "output_type": "execute_result"
    }
   ],
   "source": [
    "prediction"
   ]
  },
  {
   "cell_type": "code",
   "execution_count": 23,
   "metadata": {},
   "outputs": [],
   "source": [
    "import matplotlib.pyplot as plt\n",
    "def plot_images_labels_predection(images, labels, prediction, idx, num = 10):\n",
    "#函数的参数分别是images（数字图像），labels（真实值），prediction（预测结果），idx(开始显示的数据index)，num(要显示的数据项数，默认是10.不超过25)\n",
    "    fig = plt.gcf()\n",
    "    fig.set_size_inches(12, 14)\n",
    "    if num > 25: num = 25\n",
    "    for i in range(0, num):\n",
    "        #绘制图形\n",
    "        ax = plt.subplot(5, 5, i + 1)\n",
    "        ax.imshow(images[idx], cmap = 'binary')\n",
    "        title = 'label=' + str(labels[idx])#设置标题\n",
    "        if len(predection)>0:#如果传入了预测结果\n",
    "            title+= ',predict=' + str(prediction[idx])#标题\n",
    "        \n",
    "        ax.set_title(title, fontsize = 10)#设置子图形标题\n",
    "        ax.set_xticks([]);ax.set_yticks([])#设置不显示刻度\n",
    "        idx+=1#读取下一项\n",
    "    plt.show()"
   ]
  },
  {
   "cell_type": "code",
   "execution_count": 24,
   "metadata": {},
   "outputs": [
    {
     "data": {
      "image/png": "[encoded data removed]",
      "text/plain": [
       "<Figure size 864x1008 with 10 Axes>"
      ]
     },
     "metadata": {},
     "output_type": "display_data"
    }
   ],
   "source": [
    "plot_images_labels_predection(x_test_image, y_test_label, prediction,idx = 340)"
   ]
  },
  {
   "cell_type": "markdown",
   "metadata": {},
   "source": [
    "# 显示混淆矩阵"
   ]
  },
  {
   "cell_type": "raw",
   "metadata": {},
   "source": [
    "混淆矩阵把真实值和预测值在一个表格中体现出来，在机器学习，特别是统计分类中，也称为误差矩阵。在pandas中提供了建立混淆矩阵的功能"
   ]
  },
  {
   "cell_type": "code",
   "execution_count": 22,
   "metadata": {},
   "outputs": [
    {
     "data": {
      "text/html": [
       "<div>\n",
       "<style scoped>\n",
       "    .dataframe tbody tr th:only-of-type {\n",
       "        vertical-align: middle;\n",
       "    }\n",
       "\n",
       "    .dataframe tbody tr th {\n",
       "        vertical-align: top;\n",
       "    }\n",
       "\n",
       "    .dataframe thead th {\n",
       "        text-align: right;\n",
       "    }\n",
       "</style>\n",
       "<table border=\"1\" class=\"dataframe\">\n",
       "  <thead>\n",
       "    <tr style=\"text-align: right;\">\n",
       "      <th>predict</th>\n",
       "      <th>0</th>\n",
       "      <th>1</th>\n",
       "      <th>2</th>\n",
       "      <th>3</th>\n",
       "      <th>4</th>\n",
       "      <th>5</th>\n",
       "      <th>6</th>\n",
       "      <th>7</th>\n",
       "      <th>8</th>\n",
       "      <th>9</th>\n",
       "    </tr>\n",
       "    <tr>\n",
       "      <th>label</th>\n",
       "      <th></th>\n",
       "      <th></th>\n",
       "      <th></th>\n",
       "      <th></th>\n",
       "      <th></th>\n",
       "      <th></th>\n",
       "      <th></th>\n",
       "      <th></th>\n",
       "      <th></th>\n",
       "      <th></th>\n",
       "    </tr>\n",
       "  </thead>\n",
       "  <tbody>\n",
       "    <tr>\n",
       "      <th>0</th>\n",
       "      <td>971</td>\n",
       "      <td>0</td>\n",
       "      <td>1</td>\n",
       "      <td>1</td>\n",
       "      <td>1</td>\n",
       "      <td>0</td>\n",
       "      <td>2</td>\n",
       "      <td>1</td>\n",
       "      <td>3</td>\n",
       "      <td>0</td>\n",
       "    </tr>\n",
       "    <tr>\n",
       "      <th>1</th>\n",
       "      <td>0</td>\n",
       "      <td>1124</td>\n",
       "      <td>4</td>\n",
       "      <td>0</td>\n",
       "      <td>0</td>\n",
       "      <td>1</td>\n",
       "      <td>2</td>\n",
       "      <td>0</td>\n",
       "      <td>4</td>\n",
       "      <td>0</td>\n",
       "    </tr>\n",
       "    <tr>\n",
       "      <th>2</th>\n",
       "      <td>6</td>\n",
       "      <td>0</td>\n",
       "      <td>1009</td>\n",
       "      <td>2</td>\n",
       "      <td>1</td>\n",
       "      <td>0</td>\n",
       "      <td>2</td>\n",
       "      <td>3</td>\n",
       "      <td>9</td>\n",
       "      <td>0</td>\n",
       "    </tr>\n",
       "    <tr>\n",
       "      <th>3</th>\n",
       "      <td>0</td>\n",
       "      <td>0</td>\n",
       "      <td>2</td>\n",
       "      <td>996</td>\n",
       "      <td>0</td>\n",
       "      <td>0</td>\n",
       "      <td>0</td>\n",
       "      <td>3</td>\n",
       "      <td>5</td>\n",
       "      <td>4</td>\n",
       "    </tr>\n",
       "    <tr>\n",
       "      <th>4</th>\n",
       "      <td>1</td>\n",
       "      <td>0</td>\n",
       "      <td>5</td>\n",
       "      <td>1</td>\n",
       "      <td>960</td>\n",
       "      <td>0</td>\n",
       "      <td>3</td>\n",
       "      <td>0</td>\n",
       "      <td>2</td>\n",
       "      <td>10</td>\n",
       "    </tr>\n",
       "    <tr>\n",
       "      <th>5</th>\n",
       "      <td>3</td>\n",
       "      <td>0</td>\n",
       "      <td>0</td>\n",
       "      <td>15</td>\n",
       "      <td>1</td>\n",
       "      <td>852</td>\n",
       "      <td>7</td>\n",
       "      <td>1</td>\n",
       "      <td>10</td>\n",
       "      <td>3</td>\n",
       "    </tr>\n",
       "    <tr>\n",
       "      <th>6</th>\n",
       "      <td>5</td>\n",
       "      <td>3</td>\n",
       "      <td>1</td>\n",
       "      <td>1</td>\n",
       "      <td>3</td>\n",
       "      <td>3</td>\n",
       "      <td>939</td>\n",
       "      <td>0</td>\n",
       "      <td>3</td>\n",
       "      <td>0</td>\n",
       "    </tr>\n",
       "    <tr>\n",
       "      <th>7</th>\n",
       "      <td>0</td>\n",
       "      <td>5</td>\n",
       "      <td>13</td>\n",
       "      <td>7</td>\n",
       "      <td>1</td>\n",
       "      <td>0</td>\n",
       "      <td>0</td>\n",
       "      <td>988</td>\n",
       "      <td>5</td>\n",
       "      <td>9</td>\n",
       "    </tr>\n",
       "    <tr>\n",
       "      <th>8</th>\n",
       "      <td>4</td>\n",
       "      <td>0</td>\n",
       "      <td>3</td>\n",
       "      <td>7</td>\n",
       "      <td>0</td>\n",
       "      <td>1</td>\n",
       "      <td>1</td>\n",
       "      <td>2</td>\n",
       "      <td>955</td>\n",
       "      <td>1</td>\n",
       "    </tr>\n",
       "    <tr>\n",
       "      <th>9</th>\n",
       "      <td>4</td>\n",
       "      <td>5</td>\n",
       "      <td>0</td>\n",
       "      <td>11</td>\n",
       "      <td>7</td>\n",
       "      <td>2</td>\n",
       "      <td>0</td>\n",
       "      <td>4</td>\n",
       "      <td>5</td>\n",
       "      <td>971</td>\n",
       "    </tr>\n",
       "  </tbody>\n",
       "</table>\n",
       "</div>"
      ],
      "text/plain": [
       "predict    0     1     2    3    4    5    6    7    8    9\n",
       "label                                                      \n",
       "0        971     0     1    1    1    0    2    1    3    0\n",
       "1          0  1124     4    0    0    1    2    0    4    0\n",
       "2          6     0  1009    2    1    0    2    3    9    0\n",
       "3          0     0     2  996    0    0    0    3    5    4\n",
       "4          1     0     5    1  960    0    3    0    2   10\n",
       "5          3     0     0   15    1  852    7    1   10    3\n",
       "6          5     3     1    1    3    3  939    0    3    0\n",
       "7          0     5    13    7    1    0    0  988    5    9\n",
       "8          4     0     3    7    0    1    1    2  955    1\n",
       "9          4     5     0   11    7    2    0    4    5  971"
      ]
     },
     "execution_count": 22,
     "metadata": {},
     "output_type": "execute_result"
    }
   ],
   "source": [
    "import pandas as pd\n",
    "pd.crosstab(y_test_label, predection, rownames = ['label'], colnames = ['predict'])\n",
    "#参数分别为测试数据图像的真实值，预测值，行和列名称"
   ]
  },
  {
   "cell_type": "raw",
   "metadata": {},
   "source": [
    "建立真实值与预测的DataFrame，我们发现真实值是5，但误判为3的是最多的，我们希望建立真实值是5，预测值是3的DataFrame，包含label和prediction"
   ]
  },
  {
   "cell_type": "code",
   "execution_count": 23,
   "metadata": {},
   "outputs": [
    {
     "data": {
      "text/html": [
       "<div>\n",
       "<style scoped>\n",
       "    .dataframe tbody tr th:only-of-type {\n",
       "        vertical-align: middle;\n",
       "    }\n",
       "\n",
       "    .dataframe tbody tr th {\n",
       "        vertical-align: top;\n",
       "    }\n",
       "\n",
       "    .dataframe thead th {\n",
       "        text-align: right;\n",
       "    }\n",
       "</style>\n",
       "<table border=\"1\" class=\"dataframe\">\n",
       "  <thead>\n",
       "    <tr style=\"text-align: right;\">\n",
       "      <th></th>\n",
       "      <th>label</th>\n",
       "      <th>predict</th>\n",
       "    </tr>\n",
       "  </thead>\n",
       "  <tbody>\n",
       "    <tr>\n",
       "      <th>0</th>\n",
       "      <td>7</td>\n",
       "      <td>7</td>\n",
       "    </tr>\n",
       "    <tr>\n",
       "      <th>1</th>\n",
       "      <td>2</td>\n",
       "      <td>2</td>\n",
       "    </tr>\n",
       "  </tbody>\n",
       "</table>\n",
       "</div>"
      ],
      "text/plain": [
       "   label  predict\n",
       "0      7        7\n",
       "1      2        2"
      ]
     },
     "execution_count": 23,
     "metadata": {},
     "output_type": "execute_result"
    }
   ],
   "source": [
    "df = pd.DataFrame({'label': y_test_label, 'predict': predection})\n",
    "df[:2]"
   ]
  },
  {
   "cell_type": "raw",
   "metadata": {},
   "source": [
    "查询真实值是5，预测值是3的数据"
   ]
  },
  {
   "cell_type": "code",
   "execution_count": 24,
   "metadata": {},
   "outputs": [
    {
     "data": {
      "text/html": [
       "<div>\n",
       "<style scoped>\n",
       "    .dataframe tbody tr th:only-of-type {\n",
       "        vertical-align: middle;\n",
       "    }\n",
       "\n",
       "    .dataframe tbody tr th {\n",
       "        vertical-align: top;\n",
       "    }\n",
       "\n",
       "    .dataframe thead th {\n",
       "        text-align: right;\n",
       "    }\n",
       "</style>\n",
       "<table border=\"1\" class=\"dataframe\">\n",
       "  <thead>\n",
       "    <tr style=\"text-align: right;\">\n",
       "      <th></th>\n",
       "      <th>label</th>\n",
       "      <th>predict</th>\n",
       "    </tr>\n",
       "  </thead>\n",
       "  <tbody>\n",
       "    <tr>\n",
       "      <th>340</th>\n",
       "      <td>5</td>\n",
       "      <td>3</td>\n",
       "    </tr>\n",
       "    <tr>\n",
       "      <th>1003</th>\n",
       "      <td>5</td>\n",
       "      <td>3</td>\n",
       "    </tr>\n",
       "    <tr>\n",
       "      <th>1393</th>\n",
       "      <td>5</td>\n",
       "      <td>3</td>\n",
       "    </tr>\n",
       "    <tr>\n",
       "      <th>2035</th>\n",
       "      <td>5</td>\n",
       "      <td>3</td>\n",
       "    </tr>\n",
       "    <tr>\n",
       "      <th>2526</th>\n",
       "      <td>5</td>\n",
       "      <td>3</td>\n",
       "    </tr>\n",
       "    <tr>\n",
       "      <th>2597</th>\n",
       "      <td>5</td>\n",
       "      <td>3</td>\n",
       "    </tr>\n",
       "    <tr>\n",
       "      <th>2810</th>\n",
       "      <td>5</td>\n",
       "      <td>3</td>\n",
       "    </tr>\n",
       "    <tr>\n",
       "      <th>3117</th>\n",
       "      <td>5</td>\n",
       "      <td>3</td>\n",
       "    </tr>\n",
       "    <tr>\n",
       "      <th>4271</th>\n",
       "      <td>5</td>\n",
       "      <td>3</td>\n",
       "    </tr>\n",
       "    <tr>\n",
       "      <th>4355</th>\n",
       "      <td>5</td>\n",
       "      <td>3</td>\n",
       "    </tr>\n",
       "    <tr>\n",
       "      <th>4360</th>\n",
       "      <td>5</td>\n",
       "      <td>3</td>\n",
       "    </tr>\n",
       "    <tr>\n",
       "      <th>5937</th>\n",
       "      <td>5</td>\n",
       "      <td>3</td>\n",
       "    </tr>\n",
       "    <tr>\n",
       "      <th>5972</th>\n",
       "      <td>5</td>\n",
       "      <td>3</td>\n",
       "    </tr>\n",
       "    <tr>\n",
       "      <th>6028</th>\n",
       "      <td>5</td>\n",
       "      <td>3</td>\n",
       "    </tr>\n",
       "    <tr>\n",
       "      <th>6043</th>\n",
       "      <td>5</td>\n",
       "      <td>3</td>\n",
       "    </tr>\n",
       "  </tbody>\n",
       "</table>\n",
       "</div>"
      ],
      "text/plain": [
       "      label  predict\n",
       "340       5        3\n",
       "1003      5        3\n",
       "1393      5        3\n",
       "2035      5        3\n",
       "2526      5        3\n",
       "2597      5        3\n",
       "2810      5        3\n",
       "3117      5        3\n",
       "4271      5        3\n",
       "4355      5        3\n",
       "4360      5        3\n",
       "5937      5        3\n",
       "5972      5        3\n",
       "6028      5        3\n",
       "6043      5        3"
      ]
     },
     "execution_count": 24,
     "metadata": {},
     "output_type": "execute_result"
    }
   ],
   "source": [
    "df[(df.label == 5) & (df.predict == 3)]"
   ]
  },
  {
   "cell_type": "code",
   "execution_count": 25,
   "metadata": {},
   "outputs": [],
   "source": [
    "import matplotlib.pyplot as plt\n",
    "def plot_images_labels_predection(images, labels, predection, idx, num = 10):\n",
    "#函数的参数分别是images（数字图像），labels（真实值），prediction（预测结果），idx(开始显示的数据index)，num(要显示的数据项数，默认是10.不超过25)\n",
    "    fig = plt.gcf()\n",
    "    fig.set_size_inches(12, 14)\n",
    "    if num > 25: num = 25\n",
    "    for i in range(0, num):\n",
    "        #绘制图形\n",
    "        ax = plt.subplot(5, 5, i + 1)\n",
    "        ax.imshow(images[idx], cmap = 'binary')\n",
    "        title = 'label=' + str(labels[idx])#设置标题\n",
    "        if len(predection)>0:#如果传入了预测结果\n",
    "            title+= ',predict=' + str(prediction[idx])#标题\n",
    "        \n",
    "        ax.set_title(title, fontsize = 10)#设置子图形标题\n",
    "        ax.set_xticks([]);ax.set_yticks([])#设置不显示刻度\n",
    "        idx+=1#读取下一项\n",
    "    plt.show()"
   ]
  },
  {
   "cell_type": "raw",
   "metadata": {},
   "source": [
    "查看第340项数据，真实值是5，预测值是3"
   ]
  },
  {
   "cell_type": "code",
   "execution_count": 26,
   "metadata": {},
   "outputs": [
    {
     "data": {
      "image/png": "[encoded data removed]",
      "text/plain": [
       "<Figure size 864x1008 with 1 Axes>"
      ]
     },
     "metadata": {},
     "output_type": "display_data"
    }
   ],
   "source": [
    "plot_images_labels_predection(x_test_image, y_test_label, [], idx = 340, num = 1)"
   ]
  },
  {
   "cell_type": "raw",
   "metadata": {},
   "source": [
    "可以看出图形长得像5又像3，所以误判"
   ]
  },
  {
   "cell_type": "markdown",
   "metadata": {},
   "source": [
    "# 隐藏层增加为1000个神经元"
   ]
  },
  {
   "cell_type": "code",
   "execution_count": 27,
   "metadata": {},
   "outputs": [],
   "source": [
    "model = Sequential()\n",
    "\n",
    "model.add(Dense(units=1000, input_dim = 784, kernel_initializer='normal', activation='relu'))\n",
    "\n",
    "model.add(Dense(units=10, kernel_initializer='normal', activation='softmax'))"
   ]
  },
  {
   "cell_type": "code",
   "execution_count": 28,
   "metadata": {},
   "outputs": [
    {
     "name": "stdout",
     "output_type": "stream",
     "text": [
      "_________________________________________________________________\n",
      "Layer (type)                 Output Shape              Param #   \n",
      "=================================================================\n",
      "dense_3 (Dense)              (None, 1000)              785000    \n",
      "_________________________________________________________________\n",
      "dense_4 (Dense)              (None, 10)                10010     \n",
      "=================================================================\n",
      "Total params: 795,010\n",
      "Trainable params: 795,010\n",
      "Non-trainable params: 0\n",
      "_________________________________________________________________\n",
      "None\n"
     ]
    }
   ],
   "source": [
    "print(model.summary())"
   ]
  },
  {
   "cell_type": "code",
   "execution_count": 29,
   "metadata": {},
   "outputs": [
    {
     "name": "stdout",
     "output_type": "stream",
     "text": [
      "Train on 48000 samples, validate on 12000 samples\n",
      "Epoch 1/10\n",
      " - 6s - loss: 0.2905 - acc: 0.9161 - val_loss: 0.1537 - val_acc: 0.9560\n",
      "Epoch 2/10\n",
      " - 5s - loss: 0.1149 - acc: 0.9671 - val_loss: 0.1214 - val_acc: 0.9633\n",
      "Epoch 3/10\n",
      " - 5s - loss: 0.0735 - acc: 0.9794 - val_loss: 0.0917 - val_acc: 0.9734\n",
      "Epoch 4/10\n",
      " - 5s - loss: 0.0518 - acc: 0.9856 - val_loss: 0.0816 - val_acc: 0.9747\n",
      "Epoch 5/10\n",
      " - 5s - loss: 0.0359 - acc: 0.9902 - val_loss: 0.0836 - val_acc: 0.9751\n",
      "Epoch 6/10\n",
      " - 6s - loss: 0.0247 - acc: 0.9940 - val_loss: 0.0736 - val_acc: 0.9779\n",
      "Epoch 7/10\n",
      " - 5s - loss: 0.0184 - acc: 0.9954 - val_loss: 0.0723 - val_acc: 0.9780\n",
      "Epoch 8/10\n",
      " - 6s - loss: 0.0134 - acc: 0.9968 - val_loss: 0.0746 - val_acc: 0.9787\n",
      "Epoch 9/10\n",
      " - 7s - loss: 0.0100 - acc: 0.9980 - val_loss: 0.0720 - val_acc: 0.9796\n",
      "Epoch 10/10\n",
      " - 6s - loss: 0.0066 - acc: 0.9991 - val_loss: 0.0769 - val_acc: 0.9784\n"
     ]
    }
   ],
   "source": [
    "model.compile(loss='categorical_crossentropy', optimizer='adam', metrics=['accuracy'])\n",
    "train_history = model.fit(x = x_Train_normalize, y = y_Train_OneHot, validation_split=0.2, epochs=10, \n",
    "                          batch_size=200,verbose=2)"
   ]
  },
  {
   "cell_type": "code",
   "execution_count": 30,
   "metadata": {},
   "outputs": [
    {
     "data": {
      "image/png": "[encoded data removed]",
      "text/plain": [
       "<Figure size 432x288 with 1 Axes>"
      ]
     },
     "metadata": {},
     "output_type": "display_data"
    }
   ],
   "source": [
    "show_train_history(train_history, 'acc', 'val_acc')"
   ]
  },
  {
   "cell_type": "raw",
   "metadata": {},
   "source": [
    "无论是训练还是预测，准确率都越来越高，但后期的过拟合更严重"
   ]
  },
  {
   "cell_type": "code",
   "execution_count": 31,
   "metadata": {},
   "outputs": [
    {
     "name": "stdout",
     "output_type": "stream",
     "text": [
      "10000/10000 [==============================] - 1s 100us/step\n",
      "\n",
      "accuracy= 0.9799\n"
     ]
    }
   ],
   "source": [
    "scores = model.evaluate(x_Test_normalize, y_Test_OneHot)\n",
    "print()\n",
    "print('accuracy=', scores[1])"
   ]
  },
  {
   "cell_type": "markdown",
   "metadata": {},
   "source": [
    "# 多层感知器加入DropOut功能避免过拟合"
   ]
  },
  {
   "cell_type": "raw",
   "metadata": {},
   "source": [
    "隐藏层改为1000个神经元并加入DropOut功能"
   ]
  },
  {
   "cell_type": "raw",
   "metadata": {},
   "source": [
    "修改隐藏层并加入DropOut"
   ]
  },
  {
   "cell_type": "code",
   "execution_count": 32,
   "metadata": {},
   "outputs": [],
   "source": [
    "from keras.models import Sequential\n",
    "from keras.layers import Dense\n",
    "from keras.layers import Dropout #导入DropOut模块\n",
    "\n",
    "model = Sequential()\n",
    "\n",
    "model.add(Dense(units=1000, input_dim = 784, kernel_initializer='normal', activation='relu'))\n",
    "\n",
    "model.add(Dropout(0.5))#加入DropOut功能\n",
    "\n",
    "model.add(Dense(units=10, kernel_initializer='normal', activation='softmax'))"
   ]
  },
  {
   "cell_type": "code",
   "execution_count": 33,
   "metadata": {},
   "outputs": [
    {
     "name": "stdout",
     "output_type": "stream",
     "text": [
      "_________________________________________________________________\n",
      "Layer (type)                 Output Shape              Param #   \n",
      "=================================================================\n",
      "dense_5 (Dense)              (None, 1000)              785000    \n",
      "_________________________________________________________________\n",
      "dropout_1 (Dropout)          (None, 1000)              0         \n",
      "_________________________________________________________________\n",
      "dense_6 (Dense)              (None, 10)                10010     \n",
      "=================================================================\n",
      "Total params: 795,010\n",
      "Trainable params: 795,010\n",
      "Non-trainable params: 0\n",
      "_________________________________________________________________\n",
      "None\n"
     ]
    }
   ],
   "source": [
    "print(model.summary())"
   ]
  },
  {
   "cell_type": "code",
   "execution_count": 34,
   "metadata": {},
   "outputs": [
    {
     "name": "stdout",
     "output_type": "stream",
     "text": [
      "Train on 48000 samples, validate on 12000 samples\n",
      "Epoch 1/10\n",
      " - 6s - loss: 0.3532 - acc: 0.8943 - val_loss: 0.1619 - val_acc: 0.9546\n",
      "Epoch 2/10\n",
      " - 6s - loss: 0.1596 - acc: 0.9532 - val_loss: 0.1180 - val_acc: 0.9653\n",
      "Epoch 3/10\n",
      " - 6s - loss: 0.1150 - acc: 0.9666 - val_loss: 0.0968 - val_acc: 0.9700\n",
      "Epoch 4/10\n",
      " - 6s - loss: 0.0909 - acc: 0.9726 - val_loss: 0.0875 - val_acc: 0.9726\n",
      "Epoch 5/10\n",
      " - 6s - loss: 0.0742 - acc: 0.9772 - val_loss: 0.0800 - val_acc: 0.9763\n",
      "Epoch 6/10\n",
      " - 6s - loss: 0.0643 - acc: 0.9799 - val_loss: 0.0752 - val_acc: 0.9773\n",
      "Epoch 7/10\n",
      " - 6s - loss: 0.0546 - acc: 0.9836 - val_loss: 0.0757 - val_acc: 0.9783\n",
      "Epoch 8/10\n",
      " - 6s - loss: 0.0468 - acc: 0.9857 - val_loss: 0.0707 - val_acc: 0.9787\n",
      "Epoch 9/10\n",
      " - 6s - loss: 0.0419 - acc: 0.9865 - val_loss: 0.0702 - val_acc: 0.9797\n",
      "Epoch 10/10\n",
      " - 6s - loss: 0.0375 - acc: 0.9881 - val_loss: 0.0684 - val_acc: 0.9802\n"
     ]
    }
   ],
   "source": [
    "model.compile(loss='categorical_crossentropy', optimizer='adam', metrics=['accuracy'])\n",
    "\n",
    "train_history = model.fit(x = x_Train_normalize, y = y_Train_OneHot, validation_split=0.2, epochs=10, \n",
    "                          batch_size=200,verbose=2)"
   ]
  },
  {
   "cell_type": "raw",
   "metadata": {},
   "source": [
    "‘acc训练准确率’与‘val_acc验证准确率’相差很小，过拟合有所改善"
   ]
  },
  {
   "cell_type": "code",
   "execution_count": 35,
   "metadata": {},
   "outputs": [
    {
     "data": {
      "image/png": "[encoded data removed]",
      "text/plain": [
       "<Figure size 432x288 with 1 Axes>"
      ]
     },
     "metadata": {},
     "output_type": "display_data"
    }
   ],
   "source": [
    "show_train_history(train_history, 'acc', 'val_acc')"
   ]
  },
  {
   "cell_type": "raw",
   "metadata": {},
   "source": [
    "可以看出，无论是训练还是验证，准确率都是越来越高，而且训练后期过拟合现象有所改善"
   ]
  },
  {
   "cell_type": "code",
   "execution_count": 36,
   "metadata": {},
   "outputs": [
    {
     "name": "stdout",
     "output_type": "stream",
     "text": [
      "10000/10000 [==============================] - 1s 80us/step\n",
      "\n",
      "accuracy= 0.9828\n"
     ]
    }
   ],
   "source": [
    "scores = model.evaluate(x_Test_normalize, y_Test_OneHot)\n",
    "print()\n",
    "print('accuracy=', scores[1])"
   ]
  },
  {
   "cell_type": "raw",
   "metadata": {},
   "source": [
    "准确率达到0.98，加入DropOut不仅改善了过拟合，还增加了准确率"
   ]
  },
  {
   "cell_type": "markdown",
   "metadata": {},
   "source": [
    "# 建立多层感知器模型包含两个隐藏层"
   ]
  },
  {
   "cell_type": "raw",
   "metadata": {},
   "source": [
    "加入两个隐藏层，并且加入DropOut功能"
   ]
  },
  {
   "cell_type": "code",
   "execution_count": 37,
   "metadata": {},
   "outputs": [],
   "source": [
    "model = Sequential()\n",
    "\n",
    "#加入输入层和隐藏层1\n",
    "model.add(Dense(units=1000, input_dim = 784, kernel_initializer='normal', activation='relu'))\n",
    "\n",
    "model.add(Dropout(0,5))\n",
    "\n",
    "#加入隐藏层2\n",
    "model.add(Dense(units=1000, kernel_initializer='normal', activation='relu'))\n",
    "\n",
    "model.add(Dropout(0.5))\n",
    "\n",
    "#加入输出层\n",
    "model.add(Dense(units=10, kernel_initializer='normal', activation='softmax'))"
   ]
  },
  {
   "cell_type": "code",
   "execution_count": 38,
   "metadata": {},
   "outputs": [
    {
     "name": "stdout",
     "output_type": "stream",
     "text": [
      "_________________________________________________________________\n",
      "Layer (type)                 Output Shape              Param #   \n",
      "=================================================================\n",
      "dense_7 (Dense)              (None, 1000)              785000    \n",
      "_________________________________________________________________\n",
      "dropout_2 (Dropout)          (None, 1000)              0         \n",
      "_________________________________________________________________\n",
      "dense_8 (Dense)              (None, 1000)              1001000   \n",
      "_________________________________________________________________\n",
      "dropout_3 (Dropout)          (None, 1000)              0         \n",
      "_________________________________________________________________\n",
      "dense_9 (Dense)              (None, 10)                10010     \n",
      "=================================================================\n",
      "Total params: 1,796,010\n",
      "Trainable params: 1,796,010\n",
      "Non-trainable params: 0\n",
      "_________________________________________________________________\n",
      "None\n"
     ]
    }
   ],
   "source": [
    "print(model.summary())"
   ]
  },
  {
   "cell_type": "code",
   "execution_count": 39,
   "metadata": {},
   "outputs": [],
   "source": [
    "model.compile(loss='categorical_crossentropy', optimizer='adam', metrics=['accuracy'])"
   ]
  },
  {
   "cell_type": "code",
   "execution_count": null,
   "metadata": {},
   "outputs": [
    {
     "name": "stdout",
     "output_type": "stream",
     "text": [
      "Train on 48000 samples, validate on 12000 samples\n",
      "Epoch 1/10\n",
      " - 14s - loss: 0.2785 - acc: 0.9150 - val_loss: 0.1137 - val_acc: 0.9653\n",
      "Epoch 2/10\n",
      " - 14s - loss: 0.0990 - acc: 0.9705 - val_loss: 0.1064 - val_acc: 0.9686\n",
      "Epoch 3/10\n",
      " - 14s - loss: 0.0610 - acc: 0.9810 - val_loss: 0.0820 - val_acc: 0.9758\n",
      "Epoch 4/10\n",
      " - 15s - loss: 0.0423 - acc: 0.9868 - val_loss: 0.0806 - val_acc: 0.9759\n",
      "Epoch 5/10\n"
     ]
    }
   ],
   "source": [
    "train_history = model.fit(x = x_Train_normalize, y = y_Train_OneHot, validation_split=0.2, epochs=10, \n",
    "                          batch_size=200, verbose=2)"
   ]
  },
  {
   "cell_type": "code",
   "execution_count": 39,
   "metadata": {},
   "outputs": [
    {
     "data": {
      "image/png": "[encoded data removed]",
      "text/plain": [
       "<Figure size 432x288 with 1 Axes>"
      ]
     },
     "metadata": {
      "needs_background": "light"
     },
     "output_type": "display_data"
    }
   ],
   "source": [
    "show_train_history(train_history, 'acc', 'val_acc')"
   ]
  },
  {
   "cell_type": "code",
   "execution_count": 40,
   "metadata": {},
   "outputs": [
    {
     "name": "stdout",
     "output_type": "stream",
     "text": [
      "10000/10000 [==============================] - 1s 112us/step\n",
      "accuracy= 0.9807\n"
     ]
    }
   ],
   "source": [
    "scores = model.evaluate(x_Test_normalize, y_Test_OneHot)\n",
    "print('accuracy=', scores[1])"
   ]
  },
  {
   "cell_type": "raw",
   "metadata": {},
   "source": [
    "过拟合现象仍然存在，准确率未得到明显提高。"
   ]
  }
 ],
 "metadata": {
  "kernelspec": {
   "display_name": "Python 3",
   "language": "python",
   "name": "python3"
  },
  "language_info": {
   "codemirror_mode": {
    "name": "ipython",
    "version": 3
   },
   "file_extension": ".py",
   "mimetype": "text/x-python",
   "name": "python",
   "nbconvert_exporter": "python",
   "pygments_lexer": "ipython3",
   "version": "3.6.5"
  }
 },
 "nbformat": 4,
 "nbformat_minor": 2
}
