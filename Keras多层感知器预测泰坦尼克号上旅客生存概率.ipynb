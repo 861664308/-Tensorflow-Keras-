{
 "cells": [
  {
   "cell_type": "raw",
   "metadata": {},
   "source": [
    "本节我们建立多层感知器模型来预测泰坦尼克号上旅客生存概率。其中输入层有9个神经元，包含两个隐藏层，第一个隐藏层有40个神经元，第二个隐藏层有30个神经元，输出层包含一个神经元，输出旅客生存概率。"
   ]
  },
  {
   "cell_type": "markdown",
   "metadata": {},
   "source": [
    "# 数据预处理"
   ]
  },
  {
   "cell_type": "raw",
   "metadata": {},
   "source": [
    "导入所需模块"
   ]
  },
  {
   "cell_type": "code",
   "execution_count": 1,
   "metadata": {},
   "outputs": [],
   "source": [
    "import urllib.request\n",
    "import os\n",
    "import tarfile\n",
    "import pandas as pd\n",
    "import numpy as np\n",
    "import xlrd"
   ]
  },
  {
   "cell_type": "raw",
   "metadata": {},
   "source": [
    "读取泰坦尼克号数据集文件"
   ]
  },
  {
   "cell_type": "code",
   "execution_count": 2,
   "metadata": {},
   "outputs": [],
   "source": [
    "all_df = pd.read_excel('titanic3.xls')"
   ]
  },
  {
   "cell_type": "raw",
   "metadata": {},
   "source": [
    "把需要的字段选取到DataFrame中"
   ]
  },
  {
   "cell_type": "code",
   "execution_count": 3,
   "metadata": {},
   "outputs": [],
   "source": [
    "cols = ['survived', 'name', 'pclass', 'sex', 'age', 'sibsp', 'parch', 'fare', 'embarked']\n",
    "all_df  = all_df[cols]"
   ]
  },
  {
   "cell_type": "raw",
   "metadata": {},
   "source": [
    "按照8:2的比例将数据分为训练集和测试集"
   ]
  },
  {
   "cell_type": "code",
   "execution_count": 4,
   "metadata": {},
   "outputs": [],
   "source": [
    "msk = np.random.rand(len(all_df)) < 0.8\n",
    "train_df = all_df[msk]\n",
    "test_df = all_df[~msk]"
   ]
  },
  {
   "cell_type": "raw",
   "metadata": {},
   "source": [
    "查看训练数据和测试数据的项数"
   ]
  },
  {
   "cell_type": "code",
   "execution_count": 5,
   "metadata": {},
   "outputs": [
    {
     "name": "stdout",
     "output_type": "stream",
     "text": [
      "total: 1309 train: 1047 test: 262\n"
     ]
    }
   ],
   "source": [
    "print('total:', len(all_df), 'train:', len(train_df), 'test:', len(test_df))"
   ]
  },
  {
   "cell_type": "raw",
   "metadata": {},
   "source": [
    "利用上一节的PreprocessData函数对训练数据和测试数据进行预处理"
   ]
  },
  {
   "cell_type": "code",
   "execution_count": 6,
   "metadata": {},
   "outputs": [],
   "source": [
    "from sklearn import preprocessing\n",
    "def PreprocessData(raw_df):\n",
    "    df = raw_df.drop(['name'], axis = 1)\n",
    "    age_mean = df['age'].mean()\n",
    "    df['age'] = df['age'].fillna(age_mean)\n",
    "    fear_mean = df['fare'].mean()\n",
    "    df['fare'] = df['fare'].fillna(fear_mean)\n",
    "    df['sex'] = df['sex'].map({'female':0, 'male':1}).astype(int)\n",
    "    x_OneHot_df =pd.get_dummies(data = df, columns=['embarked'])\n",
    "    \n",
    "    ndarray = x_OneHot_df.values\n",
    "    features = ndarray[:, 1:]\n",
    "    label = ndarray[:, 0]\n",
    "    \n",
    "    minmax_scale = preprocessing.MinMaxScaler(feature_range=(0, 1))\n",
    "    scaledfeatures = minmax_scale.fit_transform(features)\n",
    "    \n",
    "    return scaledfeatures, label"
   ]
  },
  {
   "cell_type": "raw",
   "metadata": {},
   "source": [
    "对训练数据和测试数据进行预处理"
   ]
  },
  {
   "cell_type": "code",
   "execution_count": 7,
   "metadata": {},
   "outputs": [],
   "source": [
    "train_features, train_label = PreprocessData(train_df)\n",
    "test_features, test_label = PreprocessData(test_df)"
   ]
  },
  {
   "cell_type": "markdown",
   "metadata": {},
   "source": [
    "# 建立模型"
   ]
  },
  {
   "cell_type": "markdown",
   "metadata": {},
   "source": [
    "导入所需模块"
   ]
  },
  {
   "cell_type": "code",
   "execution_count": 8,
   "metadata": {},
   "outputs": [
    {
     "name": "stderr",
     "output_type": "stream",
     "text": [
      "Using TensorFlow backend.\n"
     ]
    }
   ],
   "source": [
    "from keras.models import Sequential\n",
    "from keras.layers import Dense, Dropout"
   ]
  },
  {
   "cell_type": "raw",
   "metadata": {},
   "source": [
    "建立keras Sequential 模型"
   ]
  },
  {
   "cell_type": "code",
   "execution_count": 9,
   "metadata": {},
   "outputs": [],
   "source": [
    "model = Sequential()"
   ]
  },
  {
   "cell_type": "raw",
   "metadata": {},
   "source": [
    "建立输入层与隐藏层1"
   ]
  },
  {
   "cell_type": "code",
   "execution_count": 10,
   "metadata": {},
   "outputs": [],
   "source": [
    "model.add(Dense(units=40, input_dim = 9, kernel_initializer='uniform', activation='relu'))"
   ]
  },
  {
   "cell_type": "raw",
   "metadata": {},
   "source": [
    "建立隐藏层2"
   ]
  },
  {
   "cell_type": "code",
   "execution_count": 11,
   "metadata": {},
   "outputs": [],
   "source": [
    "model.add(Dense(units=30, kernel_initializer='uniform', activation='relu'))"
   ]
  },
  {
   "cell_type": "raw",
   "metadata": {},
   "source": [
    "建立输出层"
   ]
  },
  {
   "cell_type": "code",
   "execution_count": 12,
   "metadata": {},
   "outputs": [],
   "source": [
    "model.add(Dense(units=1, kernel_initializer='uniform', activation='sigmoid'))"
   ]
  },
  {
   "cell_type": "markdown",
   "metadata": {},
   "source": [
    "# 开始训练"
   ]
  },
  {
   "cell_type": "markdown",
   "metadata": {},
   "source": [
    "定义训练方式"
   ]
  },
  {
   "cell_type": "code",
   "execution_count": 13,
   "metadata": {},
   "outputs": [],
   "source": [
    "model.compile(loss='binary_crossentropy', optimizer='adam', metrics=['accuracy'])"
   ]
  },
  {
   "cell_type": "raw",
   "metadata": {},
   "source": [
    "开始训练"
   ]
  },
  {
   "cell_type": "code",
   "execution_count": 14,
   "metadata": {},
   "outputs": [
    {
     "name": "stdout",
     "output_type": "stream",
     "text": [
      "Train on 942 samples, validate on 105 samples\n",
      "Epoch 1/30\n",
      " - 0s - loss: 0.6898 - acc: 0.5849 - val_loss: 0.6705 - val_acc: 0.7619\n",
      "Epoch 2/30\n",
      " - 0s - loss: 0.6662 - acc: 0.6168 - val_loss: 0.5971 - val_acc: 0.7619\n",
      "Epoch 3/30\n",
      " - 0s - loss: 0.6056 - acc: 0.6847 - val_loss: 0.5140 - val_acc: 0.7810\n",
      "Epoch 4/30\n",
      " - 0s - loss: 0.5395 - acc: 0.7601 - val_loss: 0.4866 - val_acc: 0.7810\n",
      "Epoch 5/30\n",
      " - 0s - loss: 0.5052 - acc: 0.7665 - val_loss: 0.4848 - val_acc: 0.7810\n",
      "Epoch 6/30\n",
      " - 0s - loss: 0.4955 - acc: 0.7665 - val_loss: 0.4700 - val_acc: 0.7810\n",
      "Epoch 7/30\n",
      " - 0s - loss: 0.4890 - acc: 0.7622 - val_loss: 0.4579 - val_acc: 0.7810\n",
      "Epoch 8/30\n",
      " - 0s - loss: 0.4850 - acc: 0.7675 - val_loss: 0.4571 - val_acc: 0.7810\n",
      "Epoch 9/30\n",
      " - 0s - loss: 0.4833 - acc: 0.7622 - val_loss: 0.4497 - val_acc: 0.7619\n",
      "Epoch 10/30\n",
      " - 0s - loss: 0.4786 - acc: 0.7781 - val_loss: 0.4539 - val_acc: 0.7905\n",
      "Epoch 11/30\n",
      " - 0s - loss: 0.4761 - acc: 0.7792 - val_loss: 0.4549 - val_acc: 0.7810\n",
      "Epoch 12/30\n",
      " - 0s - loss: 0.4738 - acc: 0.7803 - val_loss: 0.4456 - val_acc: 0.8095\n",
      "Epoch 13/30\n",
      " - 0s - loss: 0.4715 - acc: 0.7781 - val_loss: 0.4450 - val_acc: 0.8190\n",
      "Epoch 14/30\n",
      " - 0s - loss: 0.4693 - acc: 0.7845 - val_loss: 0.4449 - val_acc: 0.8190\n",
      "Epoch 15/30\n",
      " - 0s - loss: 0.4706 - acc: 0.7739 - val_loss: 0.4438 - val_acc: 0.8190\n",
      "Epoch 16/30\n",
      " - 0s - loss: 0.4680 - acc: 0.7845 - val_loss: 0.4423 - val_acc: 0.8286\n",
      "Epoch 17/30\n",
      " - 0s - loss: 0.4643 - acc: 0.7962 - val_loss: 0.4533 - val_acc: 0.8000\n",
      "Epoch 18/30\n",
      " - 0s - loss: 0.4658 - acc: 0.7824 - val_loss: 0.4434 - val_acc: 0.8000\n",
      "Epoch 19/30\n",
      " - 0s - loss: 0.4656 - acc: 0.7771 - val_loss: 0.4437 - val_acc: 0.8286\n",
      "Epoch 20/30\n",
      " - 0s - loss: 0.4624 - acc: 0.7909 - val_loss: 0.4440 - val_acc: 0.8286\n",
      "Epoch 21/30\n",
      " - 0s - loss: 0.4616 - acc: 0.7898 - val_loss: 0.4467 - val_acc: 0.8286\n",
      "Epoch 22/30\n",
      " - 0s - loss: 0.4621 - acc: 0.7898 - val_loss: 0.4506 - val_acc: 0.7905\n",
      "Epoch 23/30\n",
      " - 0s - loss: 0.4616 - acc: 0.7909 - val_loss: 0.4497 - val_acc: 0.8190\n",
      "Epoch 24/30\n",
      " - 0s - loss: 0.4578 - acc: 0.7866 - val_loss: 0.4449 - val_acc: 0.7905\n",
      "Epoch 25/30\n",
      " - 0s - loss: 0.4574 - acc: 0.7845 - val_loss: 0.4518 - val_acc: 0.8095\n",
      "Epoch 26/30\n",
      " - 0s - loss: 0.4589 - acc: 0.7919 - val_loss: 0.4458 - val_acc: 0.8095\n",
      "Epoch 27/30\n",
      " - 0s - loss: 0.4573 - acc: 0.7941 - val_loss: 0.4503 - val_acc: 0.8190\n",
      "Epoch 28/30\n",
      " - 0s - loss: 0.4555 - acc: 0.7951 - val_loss: 0.4472 - val_acc: 0.8000\n",
      "Epoch 29/30\n",
      " - 0s - loss: 0.4549 - acc: 0.7941 - val_loss: 0.4496 - val_acc: 0.8190\n",
      "Epoch 30/30\n",
      " - 0s - loss: 0.4552 - acc: 0.7983 - val_loss: 0.4507 - val_acc: 0.8190\n"
     ]
    }
   ],
   "source": [
    "train_history = model.fit(x = train_features, y = train_label, validation_split= 0.1, \n",
    "                          epochs=30, batch_size=30, verbose=2)"
   ]
  },
  {
   "cell_type": "raw",
   "metadata": {},
   "source": [
    "画出准确率执行结果"
   ]
  },
  {
   "cell_type": "code",
   "execution_count": 15,
   "metadata": {},
   "outputs": [],
   "source": [
    "import matplotlib.pyplot as plt\n",
    "def show_train_history(train_history, train, validation):#输入参数：训练产生的train_history,训练数据执行结果,验证数据执行结果\n",
    "    plt.plot(train_history.history[train])\n",
    "    plt.plot(train_history.history[validation])\n",
    "    plt.title('Train History')\n",
    "    plt.ylabel('Train')\n",
    "    plt.xlabel('Epoch')\n",
    "    plt.legend(['train', 'validation'], loc = 'upper left')#显示图例，且位于左上角\n",
    "    plt.show()"
   ]
  },
  {
   "cell_type": "code",
   "execution_count": 16,
   "metadata": {},
   "outputs": [
    {
     "data": {
      "image/png": "[encoded data removed]",
      "text/plain": [
       "<Figure size 432x288 with 1 Axes>"
      ]
     },
     "metadata": {
      "needs_background": "light"
     },
     "output_type": "display_data"
    }
   ],
   "source": [
    "show_train_history(train_history, 'acc', 'val_acc')"
   ]
  },
  {
   "cell_type": "raw",
   "metadata": {},
   "source": [
    "无论是训练还是验证，准确率都是越来越高"
   ]
  },
  {
   "cell_type": "raw",
   "metadata": {},
   "source": [
    "画出误差执行结果"
   ]
  },
  {
   "cell_type": "code",
   "execution_count": 17,
   "metadata": {},
   "outputs": [
    {
     "data": {
      "image/png": "[encoded data removed]",
      "text/plain": [
       "<Figure size 432x288 with 1 Axes>"
      ]
     },
     "metadata": {
      "needs_background": "light"
     },
     "output_type": "display_data"
    }
   ],
   "source": [
    "show_train_history(train_history, 'loss', 'val_loss')"
   ]
  },
  {
   "cell_type": "raw",
   "metadata": {},
   "source": [
    "无论是训练还是验证，误差都是越来越小"
   ]
  },
  {
   "cell_type": "markdown",
   "metadata": {},
   "source": [
    "# 评估模型准确率"
   ]
  },
  {
   "cell_type": "code",
   "execution_count": 18,
   "metadata": {},
   "outputs": [
    {
     "name": "stdout",
     "output_type": "stream",
     "text": [
      "262/262 [==============================] - 0s 41us/step\n"
     ]
    },
    {
     "data": {
      "text/plain": [
       "0.8206106870229007"
      ]
     },
     "execution_count": 18,
     "metadata": {},
     "output_type": "execute_result"
    }
   ],
   "source": [
    "scores = model.evaluate(x = test_features, y = test_label)\n",
    "scores[1]"
   ]
  },
  {
   "cell_type": "markdown",
   "metadata": {},
   "source": [
    "# 加入《泰坦尼克号》电影中Jack和Rose的数据"
   ]
  },
  {
   "cell_type": "raw",
   "metadata": {},
   "source": [
    "根据电影剧情，我们做如下猜想\n",
    "Jack是3等舱，Rose是头等舱\n",
    "Jack是男性，Rose是女性\n",
    "Jack的票价是3，Rose的票价是100\n",
    "Jack的年龄是23，Rose的年龄是20"
   ]
  },
  {
   "cell_type": "raw",
   "metadata": {},
   "source": [
    "建立Jack和Rose的数据"
   ]
  },
  {
   "cell_type": "code",
   "execution_count": 19,
   "metadata": {},
   "outputs": [],
   "source": [
    "Jack = pd.Series([0, 'Jack', 3, 'male', 23, 1, 0, 5.0000, 'S'])\n",
    "Rose = pd.Series([1, 'Rose', 1, 'female', 20, 1, 0, 100.0000, 'S'])"
   ]
  },
  {
   "cell_type": "raw",
   "metadata": {},
   "source": [
    "创建Jack和Rose的DataFrame"
   ]
  },
  {
   "cell_type": "code",
   "execution_count": 20,
   "metadata": {},
   "outputs": [],
   "source": [
    "JR_df = pd.DataFrame([list(Jack), list(Rose)], \n",
    "                     columns=['survived', 'name', 'pclass', 'sex', 'age', 'sibsp', 'parch', 'fare', 'embarked'])"
   ]
  },
  {
   "cell_type": "raw",
   "metadata": {},
   "source": [
    "将JR_df加入all_df"
   ]
  },
  {
   "cell_type": "code",
   "execution_count": 21,
   "metadata": {},
   "outputs": [],
   "source": [
    "all_df = pd.concat([all_df, JR_df])"
   ]
  },
  {
   "cell_type": "raw",
   "metadata": {},
   "source": [
    "查看all_df的最后两项数据"
   ]
  },
  {
   "cell_type": "code",
   "execution_count": 22,
   "metadata": {},
   "outputs": [
    {
     "data": {
      "text/html": [
       "<div>\n",
       "<style scoped>\n",
       "    .dataframe tbody tr th:only-of-type {\n",
       "        vertical-align: middle;\n",
       "    }\n",
       "\n",
       "    .dataframe tbody tr th {\n",
       "        vertical-align: top;\n",
       "    }\n",
       "\n",
       "    .dataframe thead th {\n",
       "        text-align: right;\n",
       "    }\n",
       "</style>\n",
       "<table border=\"1\" class=\"dataframe\">\n",
       "  <thead>\n",
       "    <tr style=\"text-align: right;\">\n",
       "      <th></th>\n",
       "      <th>survived</th>\n",
       "      <th>name</th>\n",
       "      <th>pclass</th>\n",
       "      <th>sex</th>\n",
       "      <th>age</th>\n",
       "      <th>sibsp</th>\n",
       "      <th>parch</th>\n",
       "      <th>fare</th>\n",
       "      <th>embarked</th>\n",
       "    </tr>\n",
       "  </thead>\n",
       "  <tbody>\n",
       "    <tr>\n",
       "      <th>0</th>\n",
       "      <td>0</td>\n",
       "      <td>Jack</td>\n",
       "      <td>3</td>\n",
       "      <td>male</td>\n",
       "      <td>23.0</td>\n",
       "      <td>1</td>\n",
       "      <td>0</td>\n",
       "      <td>5.0</td>\n",
       "      <td>S</td>\n",
       "    </tr>\n",
       "    <tr>\n",
       "      <th>1</th>\n",
       "      <td>1</td>\n",
       "      <td>Rose</td>\n",
       "      <td>1</td>\n",
       "      <td>female</td>\n",
       "      <td>20.0</td>\n",
       "      <td>1</td>\n",
       "      <td>0</td>\n",
       "      <td>100.0</td>\n",
       "      <td>S</td>\n",
       "    </tr>\n",
       "  </tbody>\n",
       "</table>\n",
       "</div>"
      ],
      "text/plain": [
       "   survived  name  pclass     sex   age  sibsp  parch   fare embarked\n",
       "0         0  Jack       3    male  23.0      1      0    5.0        S\n",
       "1         1  Rose       1  female  20.0      1      0  100.0        S"
      ]
     },
     "execution_count": 22,
     "metadata": {},
     "output_type": "execute_result"
    }
   ],
   "source": [
    "all_df[-2:]"
   ]
  },
  {
   "cell_type": "markdown",
   "metadata": {},
   "source": [
    "# 进行预测"
   ]
  },
  {
   "cell_type": "raw",
   "metadata": {},
   "source": [
    "由于有新的数据，所以我们必须再次执行数据预处理"
   ]
  },
  {
   "cell_type": "code",
   "execution_count": 23,
   "metadata": {},
   "outputs": [],
   "source": [
    "all_features, all_label = PreprocessData(all_df)"
   ]
  },
  {
   "cell_type": "raw",
   "metadata": {},
   "source": [
    "执行预测"
   ]
  },
  {
   "cell_type": "code",
   "execution_count": 24,
   "metadata": {},
   "outputs": [],
   "source": [
    "all_probability = model.predict(all_features)"
   ]
  },
  {
   "cell_type": "raw",
   "metadata": {},
   "source": [
    "查看all_probability的前10项数据"
   ]
  },
  {
   "cell_type": "code",
   "execution_count": 25,
   "metadata": {},
   "outputs": [
    {
     "data": {
      "text/plain": [
       "array([[0.96766245],\n",
       "       [0.55924267],\n",
       "       [0.9692486 ],\n",
       "       [0.3608517 ],\n",
       "       [0.96271783],\n",
       "       [0.25236556],\n",
       "       [0.92548406],\n",
       "       [0.3095172 ],\n",
       "       [0.9257965 ],\n",
       "       [0.2707222 ]], dtype=float32)"
      ]
     },
     "execution_count": 25,
     "metadata": {},
     "output_type": "execute_result"
    }
   ],
   "source": [
    "all_probability[: 10]"
   ]
  },
  {
   "cell_type": "markdown",
   "metadata": {},
   "source": [
    "将all_df和all_probability整合"
   ]
  },
  {
   "cell_type": "code",
   "execution_count": 26,
   "metadata": {},
   "outputs": [],
   "source": [
    "pd1 = all_df\n",
    "pd1.insert(len(all_df.columns), 'probability', all_probability)"
   ]
  },
  {
   "cell_type": "raw",
   "metadata": {},
   "source": [
    "查看最后两项数据"
   ]
  },
  {
   "cell_type": "code",
   "execution_count": 27,
   "metadata": {},
   "outputs": [
    {
     "data": {
      "text/html": [
       "<div>\n",
       "<style scoped>\n",
       "    .dataframe tbody tr th:only-of-type {\n",
       "        vertical-align: middle;\n",
       "    }\n",
       "\n",
       "    .dataframe tbody tr th {\n",
       "        vertical-align: top;\n",
       "    }\n",
       "\n",
       "    .dataframe thead th {\n",
       "        text-align: right;\n",
       "    }\n",
       "</style>\n",
       "<table border=\"1\" class=\"dataframe\">\n",
       "  <thead>\n",
       "    <tr style=\"text-align: right;\">\n",
       "      <th></th>\n",
       "      <th>survived</th>\n",
       "      <th>name</th>\n",
       "      <th>pclass</th>\n",
       "      <th>sex</th>\n",
       "      <th>age</th>\n",
       "      <th>sibsp</th>\n",
       "      <th>parch</th>\n",
       "      <th>fare</th>\n",
       "      <th>embarked</th>\n",
       "      <th>probability</th>\n",
       "    </tr>\n",
       "  </thead>\n",
       "  <tbody>\n",
       "    <tr>\n",
       "      <th>0</th>\n",
       "      <td>0</td>\n",
       "      <td>Jack</td>\n",
       "      <td>3</td>\n",
       "      <td>male</td>\n",
       "      <td>23.0</td>\n",
       "      <td>1</td>\n",
       "      <td>0</td>\n",
       "      <td>5.0</td>\n",
       "      <td>S</td>\n",
       "      <td>0.138538</td>\n",
       "    </tr>\n",
       "    <tr>\n",
       "      <th>1</th>\n",
       "      <td>1</td>\n",
       "      <td>Rose</td>\n",
       "      <td>1</td>\n",
       "      <td>female</td>\n",
       "      <td>20.0</td>\n",
       "      <td>1</td>\n",
       "      <td>0</td>\n",
       "      <td>100.0</td>\n",
       "      <td>S</td>\n",
       "      <td>0.963817</td>\n",
       "    </tr>\n",
       "  </tbody>\n",
       "</table>\n",
       "</div>"
      ],
      "text/plain": [
       "   survived  name  pclass     sex   age  sibsp  parch   fare embarked  \\\n",
       "0         0  Jack       3    male  23.0      1      0    5.0        S   \n",
       "1         1  Rose       1  female  20.0      1      0  100.0        S   \n",
       "\n",
       "   probability  \n",
       "0     0.138538  \n",
       "1     0.963817  "
      ]
     },
     "execution_count": 27,
     "metadata": {},
     "output_type": "execute_result"
    }
   ],
   "source": [
    "pd1[-2:]"
   ]
  },
  {
   "cell_type": "raw",
   "metadata": {},
   "source": [
    "Jack的生存概率是0.14，Rose是0.96，符合电影剧情"
   ]
  },
  {
   "cell_type": "markdown",
   "metadata": {},
   "source": [
    "# 找出泰坦尼克号背后的感人故事"
   ]
  },
  {
   "cell_type": "raw",
   "metadata": {},
   "source": [
    "我们可以找出生存概率大于90%但是没有存活下来的旅客"
   ]
  },
  {
   "cell_type": "code",
   "execution_count": 28,
   "metadata": {},
   "outputs": [
    {
     "data": {
      "text/html": [
       "<div>\n",
       "<style scoped>\n",
       "    .dataframe tbody tr th:only-of-type {\n",
       "        vertical-align: middle;\n",
       "    }\n",
       "\n",
       "    .dataframe tbody tr th {\n",
       "        vertical-align: top;\n",
       "    }\n",
       "\n",
       "    .dataframe thead th {\n",
       "        text-align: right;\n",
       "    }\n",
       "</style>\n",
       "<table border=\"1\" class=\"dataframe\">\n",
       "  <thead>\n",
       "    <tr style=\"text-align: right;\">\n",
       "      <th></th>\n",
       "      <th>survived</th>\n",
       "      <th>name</th>\n",
       "      <th>pclass</th>\n",
       "      <th>sex</th>\n",
       "      <th>age</th>\n",
       "      <th>sibsp</th>\n",
       "      <th>parch</th>\n",
       "      <th>fare</th>\n",
       "      <th>embarked</th>\n",
       "      <th>probability</th>\n",
       "    </tr>\n",
       "  </thead>\n",
       "  <tbody>\n",
       "    <tr>\n",
       "      <th>2</th>\n",
       "      <td>0</td>\n",
       "      <td>Allison, Miss. Helen Loraine</td>\n",
       "      <td>1</td>\n",
       "      <td>female</td>\n",
       "      <td>2.0</td>\n",
       "      <td>1</td>\n",
       "      <td>2</td>\n",
       "      <td>151.5500</td>\n",
       "      <td>S</td>\n",
       "      <td>0.969249</td>\n",
       "    </tr>\n",
       "    <tr>\n",
       "      <th>4</th>\n",
       "      <td>0</td>\n",
       "      <td>Allison, Mrs. Hudson J C (Bessie Waldo Daniels)</td>\n",
       "      <td>1</td>\n",
       "      <td>female</td>\n",
       "      <td>25.0</td>\n",
       "      <td>1</td>\n",
       "      <td>2</td>\n",
       "      <td>151.5500</td>\n",
       "      <td>S</td>\n",
       "      <td>0.962718</td>\n",
       "    </tr>\n",
       "    <tr>\n",
       "      <th>105</th>\n",
       "      <td>0</td>\n",
       "      <td>Evans, Miss. Edith Corse</td>\n",
       "      <td>1</td>\n",
       "      <td>female</td>\n",
       "      <td>36.0</td>\n",
       "      <td>0</td>\n",
       "      <td>0</td>\n",
       "      <td>31.6792</td>\n",
       "      <td>C</td>\n",
       "      <td>0.976324</td>\n",
       "    </tr>\n",
       "    <tr>\n",
       "      <th>169</th>\n",
       "      <td>0</td>\n",
       "      <td>Isham, Miss. Ann Elizabeth</td>\n",
       "      <td>1</td>\n",
       "      <td>female</td>\n",
       "      <td>50.0</td>\n",
       "      <td>0</td>\n",
       "      <td>0</td>\n",
       "      <td>28.7125</td>\n",
       "      <td>C</td>\n",
       "      <td>0.972961</td>\n",
       "    </tr>\n",
       "    <tr>\n",
       "      <th>286</th>\n",
       "      <td>0</td>\n",
       "      <td>Straus, Mrs. Isidor (Rosalie Ida Blun)</td>\n",
       "      <td>1</td>\n",
       "      <td>female</td>\n",
       "      <td>63.0</td>\n",
       "      <td>1</td>\n",
       "      <td>0</td>\n",
       "      <td>221.7792</td>\n",
       "      <td>S</td>\n",
       "      <td>0.927653</td>\n",
       "    </tr>\n",
       "  </tbody>\n",
       "</table>\n",
       "</div>"
      ],
      "text/plain": [
       "     survived                                             name  pclass  \\\n",
       "2           0                     Allison, Miss. Helen Loraine       1   \n",
       "4           0  Allison, Mrs. Hudson J C (Bessie Waldo Daniels)       1   \n",
       "105         0                         Evans, Miss. Edith Corse       1   \n",
       "169         0                       Isham, Miss. Ann Elizabeth       1   \n",
       "286         0           Straus, Mrs. Isidor (Rosalie Ida Blun)       1   \n",
       "\n",
       "        sex   age  sibsp  parch      fare embarked  probability  \n",
       "2    female   2.0      1      2  151.5500        S     0.969249  \n",
       "4    female  25.0      1      2  151.5500        S     0.962718  \n",
       "105  female  36.0      0      0   31.6792        C     0.976324  \n",
       "169  female  50.0      0      0   28.7125        C     0.972961  \n",
       "286  female  63.0      1      0  221.7792        S     0.927653  "
      ]
     },
     "execution_count": 28,
     "metadata": {},
     "output_type": "execute_result"
    }
   ],
   "source": [
    "pd1[(pd1['survived'] == 0) & (pd1['probability'] > 0.9)]"
   ]
  },
  {
   "cell_type": "raw",
   "metadata": {},
   "source": [
    "可以发现Allison, Miss. Helen Loraine与Allison, Mrs. Hudson J C都是Allison家族的人，生存概率高，但是没有存活"
   ]
  }
 ],
 "metadata": {
  "kernelspec": {
   "display_name": "Python 3",
   "language": "python",
   "name": "python3"
  },
  "language_info": {
   "codemirror_mode": {
    "name": "ipython",
    "version": 3
   },
   "file_extension": ".py",
   "mimetype": "text/x-python",
   "name": "python",
   "nbconvert_exporter": "python",
   "pygments_lexer": "ipython3",
   "version": "3.7.0"
  }
 },
 "nbformat": 4,
 "nbformat_minor": 2
}
