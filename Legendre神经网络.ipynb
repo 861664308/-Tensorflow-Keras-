{
 "cells": [
  {
   "cell_type": "code",
   "execution_count": 1,
   "metadata": {},
   "outputs": [],
   "source": [
    "import tensorflow as tf\n",
    "import numpy as np"
   ]
  },
  {
   "cell_type": "code",
   "execution_count": 62,
   "metadata": {},
   "outputs": [],
   "source": [
    "#计算Legendre多项式及其导数\n",
    "def Legendre(x, m):\n",
    "    L = np.zeros(np.max([m, 3]))\n",
    "    L[0] = 1; L[1] = x; L[2] = 1 / 2 * (3 * x ** 2 - 1)\n",
    "    if m > 3:\n",
    "        for n in range(2, m - 1):\n",
    "            L[n + 1] = (2 * n + 1) * x * L[n] / (n + 1)- n * L[n - 1] / (n + 1)\n",
    "#    L = L[-1]\n",
    "    return L\n",
    "def Legendredx(x, m):\n",
    "    L = np.zeros(np.max([m, 3]))\n",
    "    L1 = Legendre(x, m)\n",
    "    L[0] = 0; L[1] = 1; L[2] = 3 * x\n",
    "    if m > 3:\n",
    "        for n in range(2, m - 1):\n",
    "            L[n + 1] = (2 * n + 1) * (L1[n] + x * L[n]) / (n + 1) - n * L[n - 1] / (n + 1)\n",
    "#    L = L[-1]\n",
    "    return L\n",
    "def Legendred2x(x, m):\n",
    "    L = np.zeros(np.max([m, 3]))\n",
    "    L1 = Legendredx(x, m)\n",
    "    L[0] = 0; L[1] = 0; L[2] = 3\n",
    "    if m > 3:\n",
    "        for n in range(2, m - 1):\n",
    "            L[n + 1] = (2 * n + 1) * (2 * L1[n] + x * L[n]) / (n + 1) - n * L[n - 1] / (n + 1)\n",
    "#    L = L[-1]\n",
    "    return L"
   ]
  },
  {
   "cell_type": "code",
   "execution_count": 63,
   "metadata": {},
   "outputs": [],
   "source": [
    "#计算勒让德多项式及其导数\n",
    "def computeLegendrefunctionandderivation(X, m):\n",
    "    L = len(X)\n",
    "    L1 = []\n",
    "    L2 = []\n",
    "    L3 = []\n",
    "    for i in range(L):\n",
    "        temp = X[i]\n",
    "        L1.append(Legendre(temp, m))\n",
    "        L2.append(Legendredx(temp, m))\n",
    "        L3.append(Legendred2x(temp, m))\n",
    "    L1 = np.array(L1)\n",
    "    L2 = np.array(L2)\n",
    "    L3 = np.array(L3)\n",
    "    value_dict = {'function': L1, 'firstderivation': L2, 'secondderivation': L3}\n",
    "    return value_dict"
   ]
  },
  {
   "cell_type": "code",
   "execution_count": 73,
   "metadata": {},
   "outputs": [],
   "source": [
    "#计算N(x,p)的导数\n",
    "def firstdx_N(w, x, dx):\n",
    "    #L = len(x)\n",
    "    z = tf.reduce_sum(tf.multiply(tf.cast(w, tf.float64), tf.cast(x, tf.float64)))\n",
    "    N = tf.nn.tanh(z)\n",
    "    firstdx_N = (1 - tf.cast(N,tf.float64) ** 2) * tf.reduce_sum(tf.multiply(tf.cast(w,tf.float64), tf.cast(dx,tf.float64)))\n",
    "    return firstdx_N\n",
    "def seconddx_N(w, x, dx, dx2):\n",
    "    z = tf.reduce_sum(tf.multiply(tf.cast(w, tf.float64), tf.cast(x, tf.float64)))\n",
    "    N = tf.nn.tanh(z)\n",
    "    seconddx_N = (1 - N ** 2) * (tf.reduce_sum(tf.multiply(tf.cast(w, tf.float64),tf.cast(dx2,tf.float64)))-\\\n",
    "                                2 * N *(tf.reduce_sum(tf.multiply(tf.cast(w,tf.float64), tf.cast(dx, tf.float64))))\\\n",
    "                                ** 2)\n",
    "    #seconddx_N = (1 - N ** 2) * tf.reduce_sum(tf.multiply(tf.cast(w, tf.float64), tf.cast(dx2,tf.float64)))\\\n",
    "     #            - 2 * N * tf.reduce_sum(tf.multiply(tf.cast(w,tf.float64), tf.cast(dx, tf.float64)))\n",
    "    return seconddx_N"
   ]
  },
  {
   "cell_type": "code",
   "execution_count": 74,
   "metadata": {},
   "outputs": [],
   "source": [
    "#计算y=x**2*N(x,p)对x的导数\n",
    "def dx(w, x, dx1):\n",
    "    z = tf.reduce_sum(tf.multiply(tf.cast(w, tf.float64), tf.cast(x, tf.float64)))\n",
    "    N = tf.nn.tanh(z)\n",
    "    N1 = firstdx_N(w, x, dx1)\n",
    "    dydx = 2 * x * N + N1 * (x ** 2)\n",
    "    return dydx\n",
    "def d2ydx2(w, x, dx, dx2):\n",
    "    z = tf.reduce_sum(tf.multiply(tf.cast(w, tf.float64), tf.cast(x, tf.float64)))\n",
    "    N = tf.nn.tanh(z)\n",
    "    N1 = firstdx_N(w, x, dx)\n",
    "    N2 = seconddx_N(w, x, dx, dx2)\n",
    "    d2ydx2 = 2 * N + 4 * x * N1 + N2 * (x ** 2)\n",
    "    return  d2ydx2"
   ]
  },
  {
   "cell_type": "code",
   "execution_count": 75,
   "metadata": {},
   "outputs": [],
   "source": [
    "#计算代价函数\n",
    "def costfunction(w, x, x0 , dx1, dx2):\n",
    "    z = tf.reduce_sum(tf.multiply(tf.cast(w, tf.float64), tf.cast(x, tf.float64)))\n",
    "    N = tf.nn.tanh(z)\n",
    "    dy = dx(w, x, dx1)\n",
    "    ddy2 = d2ydx2(w, x, dx1, dx2)\n",
    "    costfunction = ddy2 + 2 / x0 * dy + 8 * tf.exp(x0 ** 2 * N) + 4 * tf.exp(x0 ** 2 * N / 2)\n",
    "    return costfunction\n",
    "def loss_function(X, w, Legendrefunction, firstdx, seconddx, length):\n",
    "    L = []\n",
    "    for i in range(length):\n",
    "        temp0 = X[i]\n",
    "        temp1 = Legendrefunction[i]\n",
    "        temp2 = firstdx[i,:]\n",
    "        temp3 = seconddx[i,:]\n",
    "        temp = costfunction(w, temp1, temp0 , temp2, temp3)\n",
    "        L.append(temp)\n",
    "    #L = np.array(L)\n",
    "    L = tf.reduce_sum(tf.multiply(L, L)) / 2\n",
    "    return L"
   ]
  },
  {
   "cell_type": "code",
   "execution_count": 86,
   "metadata": {},
   "outputs": [],
   "source": [
    "x = np.linspace(0.1, 1, 10)\n",
    "n = 10\n",
    "m = tf.constant(n,'int8')\n",
    "value_dict = computeLegendrefunctionandderivation(x, n)\n",
    "Legendrefunction = value_dict['function']\n",
    "firstdx = tf.constant(value_dict['firstderivation'])\n",
    "seconddx = tf.constant(value_dict['secondderivation'])"
   ]
  },
  {
   "cell_type": "code",
   "execution_count": 87,
   "metadata": {},
   "outputs": [],
   "source": [
    "#建立输入层\n",
    "x_train = tf.placeholder('float64', [None, n], name='x_train')"
   ]
  },
  {
   "cell_type": "code",
   "execution_count": 88,
   "metadata": {},
   "outputs": [],
   "source": [
    "#建立输出层\n",
    "W = tf.Variable(tf.truncated_normal([n, 1],stddev = 0.1), 'float64')\n",
    "y_predict = tf.nn.tanh(tf.matmul(tf.cast(x_train, tf.float64), tf.cast(W, tf.float64)))"
   ]
  },
  {
   "cell_type": "code",
   "execution_count": 89,
   "metadata": {},
   "outputs": [],
   "source": [
    "#定义损失函数\n",
    "loss = loss_function(X = tf.constant(x,'float64'), w = W, \n",
    "                     Legendrefunction = x_train, firstdx = firstdx, seconddx = seconddx, length=n)"
   ]
  },
  {
   "cell_type": "code",
   "execution_count": 90,
   "metadata": {},
   "outputs": [],
   "source": [
    "optimizer = tf.train.AdadeltaOptimizer(learning_rate=1).minimize(loss)"
   ]
  },
  {
   "cell_type": "code",
   "execution_count": 91,
   "metadata": {},
   "outputs": [
    {
     "name": "stdout",
     "output_type": "stream",
     "text": [
      "16755.635924221977\n",
      "4924.2760475293335\n",
      "4674.108356958813\n",
      "4673.874881899912\n",
      "4673.874881899919\n",
      "4674.463840082616\n",
      "4675.846424870237\n",
      "4677.708716687097\n",
      "4679.490751355925\n",
      "4681.236738225309\n",
      "4682.943946319334\n",
      "4684.61044241066\n",
      "4686.236991686169\n",
      "4687.825383875236\n",
      "4689.377390131101\n",
      "4690.8950716542095\n",
      "4692.3805973855515\n",
      "4693.835810646613\n",
      "4695.261711770006\n",
      "4696.660892246724\n",
      "4698.034384301228\n",
      "4699.383530776295\n",
      "4700.709560996736\n",
      "4702.013743997521\n",
      "4703.2973989168895\n",
      "4704.560994067537\n",
      "4705.805658896332\n",
      "4707.031935462901\n",
      "4708.241624117642\n",
      "4709.434450957426\n",
      "4710.611712449996\n",
      "4711.773620219179\n",
      "4712.920360459657\n",
      "4714.053264556198\n",
      "4715.17295114964\n",
      "4716.279183635251\n",
      "4717.373610863577\n",
      "4718.4547329729385\n",
      "4719.524720122028\n",
      "4720.583239147998\n",
      "4721.630906478614\n",
      "4722.667879538511\n",
      "4723.694544377251\n",
      "4724.710990827374\n",
      "4725.71767992049\n",
      "4726.71492650431\n",
      "4727.702828402877\n",
      "4728.681721282664\n",
      "4729.652106499676\n",
      "4730.61467527274\n",
      "4731.568459723862\n",
      "4732.514450616918\n",
      "4733.452759153357\n",
      "4734.3830249181865\n",
      "4735.305723266414\n",
      "4736.221601116662\n",
      "4737.130404357351\n",
      "4738.032037429111\n",
      "4738.927359997844\n",
      "4739.815074947529\n",
      "4740.69743022902\n",
      "4741.572995922924\n",
      "4742.4423439902175\n",
      "4743.3057351982225\n",
      "4744.162624570823\n",
      "4745.013632611637\n",
      "4745.859399348005\n",
      "4746.700348973889\n",
      "4747.535500483131\n",
      "4748.3643993028045\n",
      "4749.1884221369\n",
      "4750.007235631388\n",
      "4750.821371248171\n",
      "4751.630749313767\n",
      "4752.434474450361\n",
      "4753.234169063078\n",
      "4754.028979183484\n",
      "4754.820211994106\n",
      "4755.6060492862525\n",
      "4756.387257770884\n",
      "4757.1644730783755\n",
      "4757.936317017407\n",
      "4758.704854645263\n",
      "4759.469467945375\n",
      "4760.229804658019\n",
      "4760.986629297537\n",
      "4761.738564112347\n",
      "4762.487178844574\n",
      "4763.2325379305585\n",
      "4763.972984675405\n",
      "4764.7100985474735\n",
      "4765.443382849143\n",
      "4766.173711785624\n",
      "4766.900417710825\n",
      "4767.6235951079325\n",
      "4768.3427882414235\n",
      "4769.0591453764455\n",
      "4769.771402186669\n",
      "4770.480962366702\n",
      "4771.18683984481\n"
     ]
    }
   ],
   "source": [
    "Epoch = 10000\n",
    "with tf.Session() as sess:\n",
    "    sess.run(tf.global_variables_initializer())\n",
    "    for epoch in range(Epoch):\n",
    "        sess.run(optimizer, feed_dict={x_train: Legendrefunction})\n",
    "        #W = tf.Variable(tf.truncated_normal([n, 1], stddev=0.1), 'float')\n",
    "        #loss = loss_function(X=tf.Variable(x, 'float'), m=m, w=W)\n",
    "        #optimizer = tf.train.AdadeltaOptimizer(learning_rate=0.0001).minimize(loss)\n",
    "        if (epoch % 100 == 0):\n",
    "            print(sess.run(loss, feed_dict={x_train: Legendrefunction}))"
   ]
  },
  {
   "cell_type": "code",
   "execution_count": 38,
   "metadata": {},
   "outputs": [
    {
     "data": {
      "text/plain": [
       "dtype('float64')"
      ]
     },
     "execution_count": 38,
     "metadata": {},
     "output_type": "execute_result"
    }
   ],
   "source": [
    "Legendrefunction.dtype"
   ]
  },
  {
   "cell_type": "code",
   "execution_count": 56,
   "metadata": {},
   "outputs": [
    {
     "data": {
      "text/plain": [
       "<tensorflow.python.ops.variables.Variable at 0x7f8ce6502f28>"
      ]
     },
     "execution_count": 56,
     "metadata": {},
     "output_type": "execute_result"
    }
   ],
   "source": [
    "W"
   ]
  },
  {
   "cell_type": "code",
   "execution_count": null,
   "metadata": {},
   "outputs": [],
   "source": []
  }
 ],
 "metadata": {
  "kernelspec": {
   "display_name": "Python 3",
   "language": "python",
   "name": "python3"
  },
  "language_info": {
   "codemirror_mode": {
    "name": "ipython",
    "version": 3
   },
   "file_extension": ".py",
   "mimetype": "text/x-python",
   "name": "python",
   "nbconvert_exporter": "python",
   "pygments_lexer": "ipython3",
   "version": "3.7.0"
  }
 },
 "nbformat": 4,
 "nbformat_minor": 2
}
