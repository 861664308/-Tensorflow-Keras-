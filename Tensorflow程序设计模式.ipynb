{
 "cells": [
  {
   "cell_type": "markdown",
   "metadata": {},
   "source": [
    "Tensorflow与Keras的最大区别是，Tensorflow必须自行设计张量运算\n",
    "\n",
    "Tensorflow程序设计的核心是“计算图”，可分为建立计算图和执行计算图两部分\n",
    "\n",
    "（1）建立计算图\n",
    "\n",
    "我们可以使用Tensorflow提供的模块建立计算图。Tensorflow提供的模块非常强大，我们可以自行设计张量运算流程，并且构建各种深度学习和机器学习模型\n",
    "\n",
    "（2）执行计算图\n",
    "\n",
    "建立好计算图后，我们就可以建立Session执行计算图。在Tensorflow中，Session（原意是会话）的作用是在客户端和执行设备间建立连接。有了这个连接，就可以将计算图在不同设备中执行，后续任何与设备之间的数据传输必须通过Session才能进行，执行计算图后会返回结果"
   ]
  },
  {
   "cell_type": "markdown",
   "metadata": {},
   "source": [
    "# 建立计算图"
   ]
  },
  {
   "cell_type": "markdown",
   "metadata": {},
   "source": [
    "本节建立简单的计算图，只有一个常数和一个变量，建立完成后再执行此计算图"
   ]
  },
  {
   "cell_type": "markdown",
   "metadata": {},
   "source": [
    "导入Tensorflow模块"
   ]
  },
  {
   "cell_type": "code",
   "execution_count": 1,
   "metadata": {},
   "outputs": [],
   "source": [
    "import tensorflow as tf"
   ]
  },
  {
   "cell_type": "markdown",
   "metadata": {},
   "source": [
    "建立Tensorflow常数"
   ]
  },
  {
   "cell_type": "code",
   "execution_count": 2,
   "metadata": {},
   "outputs": [],
   "source": [
    "ts_c = tf.constant(2, name = 'ts_c')"
   ]
  },
  {
   "cell_type": "markdown",
   "metadata": {},
   "source": [
    "2 设置此常数为2\n",
    "\n",
    "name = 'ts_c' 设置常数名称为ts_c，此名称会显示在计算图上"
   ]
  },
  {
   "cell_type": "markdown",
   "metadata": {},
   "source": [
    "查看Tensorflow常数"
   ]
  },
  {
   "cell_type": "code",
   "execution_count": 3,
   "metadata": {},
   "outputs": [
    {
     "data": {
      "text/plain": [
       "<tf.Tensor 'ts_c:0' shape=() dtype=int32>"
      ]
     },
     "execution_count": 3,
     "metadata": {},
     "output_type": "execute_result"
    }
   ],
   "source": [
    "ts_c"
   ]
  },
  {
   "cell_type": "markdown",
   "metadata": {},
   "source": [
    "**tf.Tensor:** 代表这是Tensorflow张量\n",
    "\n",
    "**shape=():** 代表这是零维的tensor，也就是数值\n",
    "\n",
    "**dtype=int32:** 代表该张量数据类型是int32"
   ]
  },
  {
   "cell_type": "markdown",
   "metadata": {},
   "source": [
    "建立Tensorflow变量"
   ]
  },
  {
   "cell_type": "code",
   "execution_count": 4,
   "metadata": {},
   "outputs": [],
   "source": [
    "ts_x = tf.Variable(ts_c + 5, name='ts_x')"
   ]
  },
  {
   "cell_type": "markdown",
   "metadata": {},
   "source": [
    "ts_c+5 设置此变量数值是ts_c+5\n",
    "\n",
    "name='ts_x' 设置此变量名称为ts_c，此名称会显示在计算图上"
   ]
  },
  {
   "cell_type": "markdown",
   "metadata": {},
   "source": [
    "查看Tensorflow变量"
   ]
  },
  {
   "cell_type": "code",
   "execution_count": 5,
   "metadata": {},
   "outputs": [
    {
     "data": {
      "text/plain": [
       "<tensorflow.python.ops.variables.Variable at 0x7fcd1c468f98>"
      ]
     },
     "execution_count": 5,
     "metadata": {},
     "output_type": "execute_result"
    }
   ],
   "source": [
    "ts_x"
   ]
  },
  {
   "cell_type": "markdown",
   "metadata": {},
   "source": [
    "执行结果显示这是一个Tensorflow变量，但是变量的值必须在执行计算图后才可以显示"
   ]
  },
  {
   "cell_type": "markdown",
   "metadata": {},
   "source": [
    "# 执行计算图"
   ]
  },
  {
   "cell_type": "markdown",
   "metadata": {},
   "source": [
    "建立计算图后，我们就可以执行计算图。但是在执行前必须先建立Session（会话），在Tensorflow中Session代表在客户端和执行设备之间建立连接。有了这个连接，就可以在设备中执行计算图，后续任何与设备之间的沟通都必须通过这个Session，并且可以读取执行后的结果。"
   ]
  },
  {
   "cell_type": "markdown",
   "metadata": {},
   "source": [
    "建立Session"
   ]
  },
  {
   "cell_type": "code",
   "execution_count": 6,
   "metadata": {},
   "outputs": [],
   "source": [
    "sess = tf.Session()"
   ]
  },
  {
   "cell_type": "markdown",
   "metadata": {},
   "source": [
    "执行Tensorflow来初始化变量\n",
    "\n",
    "我们必须使用下列指令来初始化所有的Tensorflow变量"
   ]
  },
  {
   "cell_type": "code",
   "execution_count": 7,
   "metadata": {},
   "outputs": [],
   "source": [
    "init = tf.global_variables_initializer()\n",
    "sess.run(init)"
   ]
  },
  {
   "cell_type": "markdown",
   "metadata": {},
   "source": [
    "使用sess.run显示Tensorflow常数\n",
    "\n",
    "我们用sess.run执行计算图，并且用print打印Tensorflow常数的执行结果"
   ]
  },
  {
   "cell_type": "code",
   "execution_count": 9,
   "metadata": {},
   "outputs": [
    {
     "name": "stdout",
     "output_type": "stream",
     "text": [
      "ts_c= 2\n"
     ]
    }
   ],
   "source": [
    "print('ts_c=', sess.run(ts_c))"
   ]
  },
  {
   "cell_type": "markdown",
   "metadata": {},
   "source": [
    "用同样的方法查看Tensorflow变量"
   ]
  },
  {
   "cell_type": "code",
   "execution_count": 10,
   "metadata": {},
   "outputs": [
    {
     "name": "stdout",
     "output_type": "stream",
     "text": [
      "ts_x= 7\n"
     ]
    }
   ],
   "source": [
    "print('ts_x=', sess.run(ts_x))"
   ]
  },
  {
   "cell_type": "markdown",
   "metadata": {},
   "source": [
    "使用.eval()方法显示Tensorflow常数和Tensorflow变量"
   ]
  },
  {
   "cell_type": "code",
   "execution_count": 11,
   "metadata": {},
   "outputs": [
    {
     "name": "stdout",
     "output_type": "stream",
     "text": [
      "ts_c= 2\n"
     ]
    }
   ],
   "source": [
    "print('ts_c=', ts_c.eval(session=sess))"
   ]
  },
  {
   "cell_type": "code",
   "execution_count": 12,
   "metadata": {},
   "outputs": [
    {
     "name": "stdout",
     "output_type": "stream",
     "text": [
      "ts_x= 7\n"
     ]
    }
   ],
   "source": [
    "print('ts_x=', ts_x.eval(session=sess))"
   ]
  },
  {
   "cell_type": "markdown",
   "metadata": {},
   "source": [
    "关闭Tensorflow Session"
   ]
  },
  {
   "cell_type": "code",
   "execution_count": 13,
   "metadata": {},
   "outputs": [],
   "source": [
    "sess.close()"
   ]
  },
  {
   "cell_type": "markdown",
   "metadata": {},
   "source": [
    "将以上代码一起执行"
   ]
  },
  {
   "cell_type": "code",
   "execution_count": 14,
   "metadata": {},
   "outputs": [
    {
     "name": "stdout",
     "output_type": "stream",
     "text": [
      "ts_c= 2\n",
      "ts_x= 7\n"
     ]
    }
   ],
   "source": [
    "import tensorflow as tf\n",
    "ts_c = tf.constant(2, name='ts_c')\n",
    "ts_x = tf.Variable(ts_c + 5, name='ts_x')\n",
    "\n",
    "sess = tf.Session()\n",
    "init = tf.global_variables_initializer()\n",
    "sess.run(init)\n",
    "print('ts_c=', sess.run(ts_c))\n",
    "print('ts_x=', sess.run(ts_x))\n",
    "sess.close()"
   ]
  },
  {
   "cell_type": "markdown",
   "metadata": {},
   "source": [
    "with语句打开Session并且自动关闭"
   ]
  },
  {
   "cell_type": "markdown",
   "metadata": {},
   "source": [
    "在前面建立Session时，我们必须使用sess.close()关闭Session，这种做法可能有以下问题\n",
    "\n",
    "（1）可能忘记关闭Session\n",
    "\n",
    "（2）当程序执行发生异常时，可能导致没有关闭Session\n",
    "\n",
    "为了解决此问题，我们可以使用with语句：\n",
    "\n",
    "with后面的关键词是建立的命令tf.Session()，as关键词后面是Session的变量sess\n",
    "\n",
    "在with程序块中可以使用sess变量与设备沟通，离开with程序就自动关闭Session"
   ]
  },
  {
   "cell_type": "code",
   "execution_count": 20,
   "metadata": {},
   "outputs": [
    {
     "name": "stdout",
     "output_type": "stream",
     "text": [
      "a= 2\n",
      "x= 7\n"
     ]
    }
   ],
   "source": [
    "import tensorflow as tf\n",
    "a = tf.constant(2, name='a')\n",
    "x = tf.Variable(a + 5, name='x')\n",
    "with tf.Session() as sess:\n",
    "    init = tf.global_variables_initializer()\n",
    "    sess.run(init)\n",
    "    print('a=', sess.run(a))\n",
    "    print('x=', sess.run(x))"
   ]
  },
  {
   "cell_type": "markdown",
   "metadata": {},
   "source": [
    "# Tensorflow placeholder"
   ]
  },
  {
   "cell_type": "markdown",
   "metadata": {},
   "source": [
    "在前面的例子中，我们是在建立计算图阶段设置好了常数和变量。使用placeholder，我们可以在执行计算图阶段再来设置数值"
   ]
  },
  {
   "cell_type": "markdown",
   "metadata": {},
   "source": [
    "建立计算图\n",
    "\n",
    "以下代码建立两个placeholder，分别是width（宽）与height（高），然后使用tf.multiply将width与height相乘，相乘的结果是area（面积）"
   ]
  },
  {
   "cell_type": "code",
   "execution_count": 21,
   "metadata": {},
   "outputs": [],
   "source": [
    "width = tf.placeholder('int32')\n",
    "height = tf.placeholder('int32')\n",
    "area = tf.multiply(width, height)"
   ]
  },
  {
   "cell_type": "markdown",
   "metadata": {},
   "source": [
    "执行计算图"
   ]
  },
  {
   "cell_type": "code",
   "execution_count": 22,
   "metadata": {},
   "outputs": [
    {
     "name": "stdout",
     "output_type": "stream",
     "text": [
      "area= 48\n"
     ]
    }
   ],
   "source": [
    "with tf.Session() as sess:\n",
    "    init = tf.global_variables_initializer()\n",
    "    sess.run(init)\n",
    "    print('area=', sess.run(area, feed_dict={width: 6, height: 8}))"
   ]
  },
  {
   "cell_type": "markdown",
   "metadata": {},
   "source": [
    "# Tensorflow数值运算方法介绍"
   ]
  },
  {
   "cell_type": "markdown",
   "metadata": {},
   "source": [
    "常见的Tensorflow数值运算\n",
    "\n",
    "tf.add(x, y, name = None) 加法\n",
    "\n",
    "tf.subtract(x, y, name = None) 减法\n",
    "\n",
    "tf.multiply(x, y, name = None) 乘法\n",
    "\n",
    "tf.divide(x, y, name = None) 除法\n",
    "\n",
    "tf.mod(x, y, name = None) 取余\n",
    "\n",
    "tf.sqrt(x, name = None) 平方\n",
    "\n",
    "tf.abs(x, name = None) 绝对值\n",
    "\n",
    "name用于设置此运算的名称，详细的数值运算在http://www.tensorFlow.org/api_docs/python/math_ops/\n",
    "\n",
    "这样的数值运算方法使得Tensorflow具备了跨平台的能力"
   ]
  },
  {
   "cell_type": "markdown",
   "metadata": {},
   "source": [
    "# TensorBoard"
   ]
  },
  {
   "cell_type": "markdown",
   "metadata": {},
   "source": [
    "Tensorflow提供了TensorBoard，让我们可以以可视化的方式查看所建立的计算图。"
   ]
  },
  {
   "cell_type": "markdown",
   "metadata": {},
   "source": [
    "建立Tensorflow Variable变量"
   ]
  },
  {
   "cell_type": "code",
   "execution_count": 1,
   "metadata": {},
   "outputs": [
    {
     "name": "stdout",
     "output_type": "stream",
     "text": [
      "area= 48\n"
     ]
    }
   ],
   "source": [
    "import tensorflow as tf\n",
    "width = tf.placeholder('int32', name = 'width')\n",
    "height = tf.placeholder('int32', name = 'height')\n",
    "area = tf.multiply(width, height, name='area')\n",
    "\n",
    "with tf.Session() as sess:\n",
    "    init = tf.global_variables_initializer()\n",
    "    sess.run(init)\n",
    "    print('area=', sess.run(area, feed_dict={width: 6, height: 8}))"
   ]
  },
  {
   "cell_type": "markdown",
   "metadata": {},
   "source": [
    "将要显示在TensorBoard的数据写入log文件"
   ]
  },
  {
   "cell_type": "code",
   "execution_count": 2,
   "metadata": {},
   "outputs": [],
   "source": [
    "tf.summary.merge_all() #将所有要显示在TensorBoard中的数据整合\n",
    "train_writer = tf.summary.FileWriter('log/area', sess.graph)\n",
    "#将所有要显示在TensorBoard中的数据写入log文件，log文件会保存在当前程序执行目录下的log/area子目录中"
   ]
  },
  {
   "cell_type": "markdown",
   "metadata": {},
   "source": [
    "# 建立一维和二维张量"
   ]
  },
  {
   "cell_type": "markdown",
   "metadata": {},
   "source": [
    "建立一维张量"
   ]
  },
  {
   "cell_type": "code",
   "execution_count": 26,
   "metadata": {},
   "outputs": [
    {
     "name": "stdout",
     "output_type": "stream",
     "text": [
      "[0.4 0.2 0.4]\n"
     ]
    }
   ],
   "source": [
    "ts_X = tf.Variable([0.4, 0.2, 0.4])\n",
    "\n",
    "with tf.Session() as sess:\n",
    "    init = tf.global_variables_initializer()\n",
    "    sess.run(init)\n",
    "    X = sess.run(ts_X)\n",
    "    print(X)"
   ]
  },
  {
   "cell_type": "markdown",
   "metadata": {},
   "source": [
    "上面建立的是一维张量，一共有三个数值"
   ]
  },
  {
   "cell_type": "markdown",
   "metadata": {},
   "source": [
    "查看一维张量形状"
   ]
  },
  {
   "cell_type": "code",
   "execution_count": 27,
   "metadata": {},
   "outputs": [
    {
     "name": "stdout",
     "output_type": "stream",
     "text": [
      "(3,)\n"
     ]
    }
   ],
   "source": [
    "print(X.shape)"
   ]
  },
  {
   "cell_type": "markdown",
   "metadata": {},
   "source": [
    "建立二维张量"
   ]
  },
  {
   "cell_type": "code",
   "execution_count": 28,
   "metadata": {},
   "outputs": [
    {
     "name": "stdout",
     "output_type": "stream",
     "text": [
      "[[0.4 0.2 0.4]]\n"
     ]
    }
   ],
   "source": [
    "ts_X = tf.Variable([[0.4, 0.2, 0.4]])\n",
    "\n",
    "with tf.Session() as sess:\n",
    "    init = tf.global_variables_initializer()\n",
    "    sess.run(init)\n",
    "    X = sess.run(ts_X)\n",
    "    print(X)"
   ]
  },
  {
   "cell_type": "markdown",
   "metadata": {},
   "source": [
    "查看二维张量形状"
   ]
  },
  {
   "cell_type": "code",
   "execution_count": 29,
   "metadata": {},
   "outputs": [
    {
     "name": "stdout",
     "output_type": "stream",
     "text": [
      "(1, 3)\n"
     ]
    }
   ],
   "source": [
    "print(X.shape)"
   ]
  },
  {
   "cell_type": "markdown",
   "metadata": {},
   "source": [
    "第一维只有一项数据，所以是1；第二维每一项有三个数值，所以是3"
   ]
  },
  {
   "cell_type": "markdown",
   "metadata": {},
   "source": [
    "再次建立二维张量"
   ]
  },
  {
   "cell_type": "code",
   "execution_count": 30,
   "metadata": {},
   "outputs": [
    {
     "name": "stdout",
     "output_type": "stream",
     "text": [
      "[[-0.5 -0.2]\n",
      " [-0.3  0.4]\n",
      " [-0.5  0.2]]\n"
     ]
    }
   ],
   "source": [
    "W = tf.Variable([[-0.5, -0.2], [-0.3, 0.4], [-0.5, 0.2]])\n",
    "\n",
    "with tf.Session() as sess:\n",
    "    init = tf.global_variables_initializer()\n",
    "    sess.run(init)\n",
    "    W_array = sess.run(W)\n",
    "    print(W_array)"
   ]
  },
  {
   "cell_type": "markdown",
   "metadata": {},
   "source": [
    "查看新的二维张量的形状"
   ]
  },
  {
   "cell_type": "code",
   "execution_count": 31,
   "metadata": {},
   "outputs": [
    {
     "name": "stdout",
     "output_type": "stream",
     "text": [
      "(3, 2)\n"
     ]
    }
   ],
   "source": [
    "print(W_array.shape)"
   ]
  },
  {
   "cell_type": "markdown",
   "metadata": {},
   "source": [
    "第一维只有三项数据，所以是3，第二维，每一项数据有两个数值，所以是2"
   ]
  },
  {
   "cell_type": "markdown",
   "metadata": {},
   "source": [
    "# 矩阵的基本运算"
   ]
  },
  {
   "cell_type": "markdown",
   "metadata": {},
   "source": [
    "矩阵乘法"
   ]
  },
  {
   "cell_type": "markdown",
   "metadata": {},
   "source": [
    "Tensorflow提供的tf.matmul()的方法。进行矩阵乘法时，可以按照如下步骤\n",
    "\n",
    "$\\bullet$ 建立计算图，先建立Tensorflow变量X和W，都是二维张量（矩阵），使用tf.matmul()进行矩阵的相乘得到变量XW\n",
    "\n",
    "$\\bullet$ 使用sess.run(XW)执行计算图，并使用print显示结果"
   ]
  },
  {
   "cell_type": "code",
   "execution_count": 38,
   "metadata": {},
   "outputs": [
    {
     "name": "stdout",
     "output_type": "stream",
     "text": [
      "[[-1.3  0.4]]\n"
     ]
    }
   ],
   "source": [
    "X = tf.Variable([[1., 1., 1.]]) #注意这里必须输入浮点数，不能是整数，否则无法计算\n",
    "\n",
    "W = tf.Variable([[-0.5, -0.2], \n",
    "                 [-0.3, 0.4], \n",
    "                 [-0.5, 0.2]])\n",
    "\n",
    "XW = tf.matmul(X, W)\n",
    "\n",
    "with tf.Session() as sess:\n",
    "    init = tf.global_variables_initializer()\n",
    "    sess.run(init)\n",
    "    print(sess.run(XW))"
   ]
  },
  {
   "cell_type": "markdown",
   "metadata": {},
   "source": [
    "矩阵加法\n",
    "\n",
    "在Tensorflow中，矩阵加法直接使用加号即可"
   ]
  },
  {
   "cell_type": "code",
   "execution_count": 39,
   "metadata": {},
   "outputs": [
    {
     "name": "stdout",
     "output_type": "stream",
     "text": [
      "[[-1.1999999  0.6      ]]\n"
     ]
    }
   ],
   "source": [
    "b = tf.Variable([[0.1, 0.2]])\n",
    "XW = tf.Variable([[-1.3, 0.4]])\n",
    "\n",
    "Sum = XW + b\n",
    "\n",
    "with tf.Session() as sess:\n",
    "    init = tf.global_variables_initializer()\n",
    "    sess.run(init)\n",
    "    print(sess.run(Sum))"
   ]
  },
  {
   "cell_type": "markdown",
   "metadata": {},
   "source": [
    "Tensorflow中矩阵运算是浮点运算，所以是近似值，和真实值会有一点点误差"
   ]
  },
  {
   "cell_type": "code",
   "execution_count": null,
   "metadata": {},
   "outputs": [],
   "source": []
  }
 ],
 "metadata": {
  "kernelspec": {
   "display_name": "Python 3",
   "language": "python",
   "name": "python3"
  },
  "language_info": {
   "codemirror_mode": {
    "name": "ipython",
    "version": 3
   },
   "file_extension": ".py",
   "mimetype": "text/x-python",
   "name": "python",
   "nbconvert_exporter": "python",
   "pygments_lexer": "ipython3",
   "version": "3.7.0"
  }
 },
 "nbformat": 4,
 "nbformat_minor": 2
}
